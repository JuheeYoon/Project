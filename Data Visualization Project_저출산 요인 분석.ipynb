{
  "nbformat": 4,
  "nbformat_minor": 0,
  "metadata": {
    "colab": {
      "provenance": [],
      "collapsed_sections": [
        "cVObHZv_TUm3",
        "XZFV9cf4UHdZ",
        "Bw7mBgF4OjkK",
        "fho0fuFZMKni",
        "zH5jHOFLYjY3",
        "11Z3FvmvYst3",
        "5Iz_Gr4yByDn",
        "l55m2EcHDz4n",
        "-tRHPJB9xhaa",
        "1JKCOzvrZKLm",
        "rZS5TAcMabBf",
        "MjDLOfc2oSBe",
        "ugSmlieDyitq",
        "VF2JfqNrrDfT",
        "qefF3MPJry3L",
        "_Rpg4ZVc9QMF",
        "tP3VmHWv79JX"
      ]
    },
    "kernelspec": {
      "name": "python3",
      "display_name": "Python 3"
    },
    "language_info": {
      "name": "python"
    }
  },
  "cells": [
    {
      "cell_type": "markdown",
      "source": [
        "\n",
        "# Ready"
      ],
      "metadata": {
        "id": "gm8wjUTIP4Rp"
      }
    },
    {
      "cell_type": "code",
      "source": [
        "# 한글 폰트 다운 -> 한글 깨짐 현상 해결 위함\n",
        "!sudo apt-get install -y fonts-nanum\n",
        "!sudo fc-cache -fv\n",
        "!rm ~/.cache/matplotlib -rf"
      ],
      "metadata": {
        "colab": {
          "base_uri": "https://localhost:8080/"
        },
        "id": "893KhLmgWnm4",
        "outputId": "799addf2-c69c-4127-ae12-9ee40621eb25"
      },
      "execution_count": null,
      "outputs": [
        {
          "output_type": "stream",
          "name": "stdout",
          "text": [
            "Reading package lists... Done\n",
            "Building dependency tree... Done\n",
            "Reading state information... Done\n",
            "fonts-nanum is already the newest version (20200506-1).\n",
            "0 upgraded, 0 newly installed, 0 to remove and 9 not upgraded.\n",
            "/usr/share/fonts: caching, new cache contents: 0 fonts, 1 dirs\n",
            "/usr/share/fonts/truetype: caching, new cache contents: 0 fonts, 3 dirs\n",
            "/usr/share/fonts/truetype/humor-sans: caching, new cache contents: 1 fonts, 0 dirs\n",
            "/usr/share/fonts/truetype/liberation: caching, new cache contents: 16 fonts, 0 dirs\n",
            "/usr/share/fonts/truetype/nanum: caching, new cache contents: 12 fonts, 0 dirs\n",
            "/usr/local/share/fonts: caching, new cache contents: 0 fonts, 0 dirs\n",
            "/root/.local/share/fonts: skipping, no such directory\n",
            "/root/.fonts: skipping, no such directory\n",
            "/usr/share/fonts/truetype: skipping, looped directory detected\n",
            "/usr/share/fonts/truetype/humor-sans: skipping, looped directory detected\n",
            "/usr/share/fonts/truetype/liberation: skipping, looped directory detected\n",
            "/usr/share/fonts/truetype/nanum: skipping, looped directory detected\n",
            "/var/cache/fontconfig: cleaning cache directory\n",
            "/root/.cache/fontconfig: not cleaning non-existent cache directory\n",
            "/root/.fontconfig: not cleaning non-existent cache directory\n",
            "fc-cache: succeeded\n"
          ]
        }
      ]
    },
    {
      "cell_type": "code",
      "source": [
        "#pip install geopandas"
      ],
      "metadata": {
        "id": "ynkMnOJrOyOI"
      },
      "execution_count": null,
      "outputs": []
    },
    {
      "cell_type": "code",
      "source": [
        "#pip install wordcloud"
      ],
      "metadata": {
        "id": "VawPyjThO2Xm"
      },
      "execution_count": null,
      "outputs": []
    },
    {
      "cell_type": "markdown",
      "source": [
        "런타임 다시 시작해야함!"
      ],
      "metadata": {
        "id": "_0acldCiWxxH"
      }
    },
    {
      "cell_type": "code",
      "execution_count": null,
      "metadata": {
        "id": "DwykdKs0K53M"
      },
      "outputs": [],
      "source": [
        "import pandas as pd\n",
        "import numpy as np\n",
        "import matplotlib.pyplot as plt\n",
        "plt.rc('font', family='NanumBarunGothic')\n",
        "plt.rcParams['axes.unicode_minus'] = False\n",
        "import seaborn as sns\n",
        "import geopandas as gpd\n",
        "from matplotlib.animation import FuncAnimation\n",
        "from PIL import Image\n",
        "import matplotlib.ticker as mticker\n",
        "from wordcloud import WordCloud"
      ]
    },
    {
      "cell_type": "code",
      "source": [
        "from google.colab import drive\n",
        "drive.mount('/content/gdrive')"
      ],
      "metadata": {
        "id": "D4QnetEDSNvr",
        "colab": {
          "base_uri": "https://localhost:8080/"
        },
        "outputId": "aff806f6-f4dc-40a2-ee75-1a6d2155abb1"
      },
      "execution_count": null,
      "outputs": [
        {
          "output_type": "stream",
          "name": "stdout",
          "text": [
            "Drive already mounted at /content/gdrive; to attempt to forcibly remount, call drive.mount(\"/content/gdrive\", force_remount=True).\n"
          ]
        }
      ]
    },
    {
      "cell_type": "markdown",
      "source": [
        "공유 문서함 → 공유 폴더 맨 오른쪽 ⋮ 표시 누르고 → 정리 - 바로가기 추가 → 내 드라이브"
      ],
      "metadata": {
        "id": "2JBvlvWESPBM"
      }
    },
    {
      "cell_type": "code",
      "source": [
        "path = ('/content/gdrive/MyDrive/6캔두잇/저출산/저출산 CSV/')"
      ],
      "metadata": {
        "id": "5YfOFjJ_RPR0"
      },
      "execution_count": null,
      "outputs": []
    },
    {
      "cell_type": "markdown",
      "source": [
        "# 앞 부분"
      ],
      "metadata": {
        "id": "V6Uxi7KUV6wq"
      }
    },
    {
      "cell_type": "markdown",
      "source": [
        "## 지도"
      ],
      "metadata": {
        "id": "Qlz_lmXOTD2-"
      }
    },
    {
      "cell_type": "code",
      "source": [
        "df = pd.read_csv(path+'시도별_출생아수_합계출산율_01to22.csv',encoding='cp949')\n",
        "# 인덱스 1행부터의 값들을 int로 변환\n",
        "df.iloc[1:] = df.iloc[1:].astype(float)\n",
        "# 첫 번째 컬럼 이름을 '연도'로 변경\n",
        "df.rename(columns={df.columns[0]: '연도'}, inplace=True)"
      ],
      "metadata": {
        "id": "uv12xt-MTDqU"
      },
      "execution_count": null,
      "outputs": []
    },
    {
      "cell_type": "code",
      "source": [
        "birth = ['서울특별시', '부산광역시', '대구광역시', '인천광역시', '광주광역시',\n",
        "                    '대전광역시','울산광역시', '세종특별자치시', '경기도', '강원도', '충청북도',\n",
        "                    '충청남도', '전라북도', '전라남도', '경상북도', '경상남도', '제주특별자치도']\n",
        "tfr = ['서울특별시.1', '부산광역시.1', '대구광역시.1', '인천광역시.1', '광주광역시.1',\n",
        "                    '대전광역시.1','울산광역시.1', '세종특별자치시.1', '경기도.1', '강원도.1', '충청북도.1',\n",
        "                    '충청남도.1', '전라북도.1', '전라남도.1', '경상북도.1', '경상남도.1', '제주특별자치도.1']\n",
        "net_migration = ['서울특별시.2', '부산광역시.2', '대구광역시.2', '인천광역시.2', '광주광역시.2',\n",
        "                    '대전광역시.2','울산광역시.2', '세종특별자치시.2', '경기도.2', '강원도.2', '충청북도.2',\n",
        "                    '충청남도.2', '전라북도.2', '전라남도.2', '경상북도.2', '경상남도.2', '제주특별자치도.2']"
      ],
      "metadata": {
        "id": "sUQKB--TTRpG"
      },
      "execution_count": null,
      "outputs": []
    },
    {
      "cell_type": "markdown",
      "source": [
        "#### 연도별 1인 순이동자수, 출생아수, lineplot"
      ],
      "metadata": {
        "id": "cVObHZv_TUm3"
      }
    },
    {
      "cell_type": "code",
      "source": [
        "\n",
        "def get_line(birth : str, net_migration : str) :\n",
        "    plt.figure(figsize=(13, 7))\n",
        "    plt.plot(range(2001, 2023), df[birth].iloc[1:], label='출생아수', marker='o')\n",
        "    plt.plot(range(2001, 2023), df[net_migration].iloc[1:], label='1인순이동자수', marker='o')\n",
        "\n",
        "    plt.ylim(-20000, 135000)\n",
        "    plt.xlabel('연도',fontsize=15)\n",
        "    plt.ylabel('count',fontsize=15)\n",
        "    plt.title(birth,fontsize=17)\n",
        "    plt.legend(fontsize=13)\n",
        "    plt.xticks(range(2001, 2023,2),fontsize=14)\n",
        "    plt.yticks(fontsize=14)\n",
        "    plt.grid(True)\n",
        "\n",
        "    # 그래프를 이미지로 저장\n",
        "    plt.savefig('/content/gdrive/MyDrive/6캔두잇/Data Visualization Result/'+f'{birth}_연도별_1인순이동자수_출생아수.png', dpi=400)\n",
        "\n",
        "for i, j in zip(birth, net_migration):\n",
        "    get_line(i, j)"
      ],
      "metadata": {
        "colab": {
          "base_uri": "https://localhost:8080/",
          "height": 1000
        },
        "id": "puhaPd-9TTxL",
        "outputId": "3a3f1e8e-7157-45e1-9ba1-fc4543dd97d7"
      },
      "execution_count": null,
      "outputs": [
        {
          "output_type": "error",
          "ename": "FileNotFoundError",
          "evalue": "ignored",
          "traceback": [
            "\u001b[0;31m---------------------------------------------------------------------------\u001b[0m",
            "\u001b[0;31mFileNotFoundError\u001b[0m                         Traceback (most recent call last)",
            "\u001b[0;32m<ipython-input-9-e8f407632bf3>\u001b[0m in \u001b[0;36m<cell line: 18>\u001b[0;34m()\u001b[0m\n\u001b[1;32m     17\u001b[0m \u001b[0;34m\u001b[0m\u001b[0m\n\u001b[1;32m     18\u001b[0m \u001b[0;32mfor\u001b[0m \u001b[0mi\u001b[0m\u001b[0;34m,\u001b[0m \u001b[0mj\u001b[0m \u001b[0;32min\u001b[0m \u001b[0mzip\u001b[0m\u001b[0;34m(\u001b[0m\u001b[0mbirth\u001b[0m\u001b[0;34m,\u001b[0m \u001b[0mnet_migration\u001b[0m\u001b[0;34m)\u001b[0m\u001b[0;34m:\u001b[0m\u001b[0;34m\u001b[0m\u001b[0;34m\u001b[0m\u001b[0m\n\u001b[0;32m---> 19\u001b[0;31m     \u001b[0mget_line\u001b[0m\u001b[0;34m(\u001b[0m\u001b[0mi\u001b[0m\u001b[0;34m,\u001b[0m \u001b[0mj\u001b[0m\u001b[0;34m)\u001b[0m\u001b[0;34m\u001b[0m\u001b[0;34m\u001b[0m\u001b[0m\n\u001b[0m",
            "\u001b[0;32m<ipython-input-9-e8f407632bf3>\u001b[0m in \u001b[0;36mget_line\u001b[0;34m(birth, net_migration)\u001b[0m\n\u001b[1;32m     14\u001b[0m \u001b[0;34m\u001b[0m\u001b[0m\n\u001b[1;32m     15\u001b[0m     \u001b[0;31m# 그래프를 이미지로 저장\u001b[0m\u001b[0;34m\u001b[0m\u001b[0;34m\u001b[0m\u001b[0m\n\u001b[0;32m---> 16\u001b[0;31m     \u001b[0mplt\u001b[0m\u001b[0;34m.\u001b[0m\u001b[0msavefig\u001b[0m\u001b[0;34m(\u001b[0m\u001b[0;34m'/content/gdrive/MyDrive/6캔두잇/Data Visualization Result/'\u001b[0m\u001b[0;34m+\u001b[0m\u001b[0;34mf'{birth}_연도별_1인순이동자수_출생아수.png'\u001b[0m\u001b[0;34m,\u001b[0m \u001b[0mdpi\u001b[0m\u001b[0;34m=\u001b[0m\u001b[0;36m400\u001b[0m\u001b[0;34m)\u001b[0m\u001b[0;34m\u001b[0m\u001b[0;34m\u001b[0m\u001b[0m\n\u001b[0m\u001b[1;32m     17\u001b[0m \u001b[0;34m\u001b[0m\u001b[0m\n\u001b[1;32m     18\u001b[0m \u001b[0;32mfor\u001b[0m \u001b[0mi\u001b[0m\u001b[0;34m,\u001b[0m \u001b[0mj\u001b[0m \u001b[0;32min\u001b[0m \u001b[0mzip\u001b[0m\u001b[0;34m(\u001b[0m\u001b[0mbirth\u001b[0m\u001b[0;34m,\u001b[0m \u001b[0mnet_migration\u001b[0m\u001b[0;34m)\u001b[0m\u001b[0;34m:\u001b[0m\u001b[0;34m\u001b[0m\u001b[0;34m\u001b[0m\u001b[0m\n",
            "\u001b[0;32m/usr/local/lib/python3.10/dist-packages/matplotlib/pyplot.py\u001b[0m in \u001b[0;36msavefig\u001b[0;34m(*args, **kwargs)\u001b[0m\n\u001b[1;32m   1021\u001b[0m \u001b[0;32mdef\u001b[0m \u001b[0msavefig\u001b[0m\u001b[0;34m(\u001b[0m\u001b[0;34m*\u001b[0m\u001b[0margs\u001b[0m\u001b[0;34m,\u001b[0m \u001b[0;34m**\u001b[0m\u001b[0mkwargs\u001b[0m\u001b[0;34m)\u001b[0m\u001b[0;34m:\u001b[0m\u001b[0;34m\u001b[0m\u001b[0;34m\u001b[0m\u001b[0m\n\u001b[1;32m   1022\u001b[0m     \u001b[0mfig\u001b[0m \u001b[0;34m=\u001b[0m \u001b[0mgcf\u001b[0m\u001b[0;34m(\u001b[0m\u001b[0;34m)\u001b[0m\u001b[0;34m\u001b[0m\u001b[0;34m\u001b[0m\u001b[0m\n\u001b[0;32m-> 1023\u001b[0;31m     \u001b[0mres\u001b[0m \u001b[0;34m=\u001b[0m \u001b[0mfig\u001b[0m\u001b[0;34m.\u001b[0m\u001b[0msavefig\u001b[0m\u001b[0;34m(\u001b[0m\u001b[0;34m*\u001b[0m\u001b[0margs\u001b[0m\u001b[0;34m,\u001b[0m \u001b[0;34m**\u001b[0m\u001b[0mkwargs\u001b[0m\u001b[0;34m)\u001b[0m\u001b[0;34m\u001b[0m\u001b[0;34m\u001b[0m\u001b[0m\n\u001b[0m\u001b[1;32m   1024\u001b[0m     \u001b[0mfig\u001b[0m\u001b[0;34m.\u001b[0m\u001b[0mcanvas\u001b[0m\u001b[0;34m.\u001b[0m\u001b[0mdraw_idle\u001b[0m\u001b[0;34m(\u001b[0m\u001b[0;34m)\u001b[0m  \u001b[0;31m# Need this if 'transparent=True', to reset colors.\u001b[0m\u001b[0;34m\u001b[0m\u001b[0;34m\u001b[0m\u001b[0m\n\u001b[1;32m   1025\u001b[0m     \u001b[0;32mreturn\u001b[0m \u001b[0mres\u001b[0m\u001b[0;34m\u001b[0m\u001b[0;34m\u001b[0m\u001b[0m\n",
            "\u001b[0;32m/usr/local/lib/python3.10/dist-packages/matplotlib/figure.py\u001b[0m in \u001b[0;36msavefig\u001b[0;34m(self, fname, transparent, **kwargs)\u001b[0m\n\u001b[1;32m   3341\u001b[0m                         ax.patch._cm_set(facecolor='none', edgecolor='none'))\n\u001b[1;32m   3342\u001b[0m \u001b[0;34m\u001b[0m\u001b[0m\n\u001b[0;32m-> 3343\u001b[0;31m             \u001b[0mself\u001b[0m\u001b[0;34m.\u001b[0m\u001b[0mcanvas\u001b[0m\u001b[0;34m.\u001b[0m\u001b[0mprint_figure\u001b[0m\u001b[0;34m(\u001b[0m\u001b[0mfname\u001b[0m\u001b[0;34m,\u001b[0m \u001b[0;34m**\u001b[0m\u001b[0mkwargs\u001b[0m\u001b[0;34m)\u001b[0m\u001b[0;34m\u001b[0m\u001b[0;34m\u001b[0m\u001b[0m\n\u001b[0m\u001b[1;32m   3344\u001b[0m \u001b[0;34m\u001b[0m\u001b[0m\n\u001b[1;32m   3345\u001b[0m     def ginput(self, n=1, timeout=30, show_clicks=True,\n",
            "\u001b[0;32m/usr/local/lib/python3.10/dist-packages/matplotlib/backend_bases.py\u001b[0m in \u001b[0;36mprint_figure\u001b[0;34m(self, filename, dpi, facecolor, edgecolor, orientation, format, bbox_inches, pad_inches, bbox_extra_artists, backend, **kwargs)\u001b[0m\n\u001b[1;32m   2364\u001b[0m                 \u001b[0;31m# force the figure dpi to 72), so we need to set it again here.\u001b[0m\u001b[0;34m\u001b[0m\u001b[0;34m\u001b[0m\u001b[0m\n\u001b[1;32m   2365\u001b[0m                 \u001b[0;32mwith\u001b[0m \u001b[0mcbook\u001b[0m\u001b[0;34m.\u001b[0m\u001b[0m_setattr_cm\u001b[0m\u001b[0;34m(\u001b[0m\u001b[0mself\u001b[0m\u001b[0;34m.\u001b[0m\u001b[0mfigure\u001b[0m\u001b[0;34m,\u001b[0m \u001b[0mdpi\u001b[0m\u001b[0;34m=\u001b[0m\u001b[0mdpi\u001b[0m\u001b[0;34m)\u001b[0m\u001b[0;34m:\u001b[0m\u001b[0;34m\u001b[0m\u001b[0;34m\u001b[0m\u001b[0m\n\u001b[0;32m-> 2366\u001b[0;31m                     result = print_method(\n\u001b[0m\u001b[1;32m   2367\u001b[0m                         \u001b[0mfilename\u001b[0m\u001b[0;34m,\u001b[0m\u001b[0;34m\u001b[0m\u001b[0;34m\u001b[0m\u001b[0m\n\u001b[1;32m   2368\u001b[0m                         \u001b[0mfacecolor\u001b[0m\u001b[0;34m=\u001b[0m\u001b[0mfacecolor\u001b[0m\u001b[0;34m,\u001b[0m\u001b[0;34m\u001b[0m\u001b[0;34m\u001b[0m\u001b[0m\n",
            "\u001b[0;32m/usr/local/lib/python3.10/dist-packages/matplotlib/backend_bases.py\u001b[0m in \u001b[0;36m<lambda>\u001b[0;34m(*args, **kwargs)\u001b[0m\n\u001b[1;32m   2230\u001b[0m                 \"bbox_inches_restore\"}\n\u001b[1;32m   2231\u001b[0m             \u001b[0mskip\u001b[0m \u001b[0;34m=\u001b[0m \u001b[0moptional_kws\u001b[0m \u001b[0;34m-\u001b[0m \u001b[0;34m{\u001b[0m\u001b[0;34m*\u001b[0m\u001b[0minspect\u001b[0m\u001b[0;34m.\u001b[0m\u001b[0msignature\u001b[0m\u001b[0;34m(\u001b[0m\u001b[0mmeth\u001b[0m\u001b[0;34m)\u001b[0m\u001b[0;34m.\u001b[0m\u001b[0mparameters\u001b[0m\u001b[0;34m}\u001b[0m\u001b[0;34m\u001b[0m\u001b[0;34m\u001b[0m\u001b[0m\n\u001b[0;32m-> 2232\u001b[0;31m             print_method = functools.wraps(meth)(lambda *args, **kwargs: meth(\n\u001b[0m\u001b[1;32m   2233\u001b[0m                 *args, **{k: v for k, v in kwargs.items() if k not in skip}))\n\u001b[1;32m   2234\u001b[0m         \u001b[0;32melse\u001b[0m\u001b[0;34m:\u001b[0m  \u001b[0;31m# Let third-parties do as they see fit.\u001b[0m\u001b[0;34m\u001b[0m\u001b[0;34m\u001b[0m\u001b[0m\n",
            "\u001b[0;32m/usr/local/lib/python3.10/dist-packages/matplotlib/backends/backend_agg.py\u001b[0m in \u001b[0;36mprint_png\u001b[0;34m(self, filename_or_obj, metadata, pil_kwargs)\u001b[0m\n\u001b[1;32m    507\u001b[0m             \u001b[0;34m*\u001b[0m\u001b[0mmetadata\u001b[0m\u001b[0;34m*\u001b[0m\u001b[0;34m,\u001b[0m \u001b[0mincluding\u001b[0m \u001b[0mthe\u001b[0m \u001b[0mdefault\u001b[0m \u001b[0;34m'Software'\u001b[0m \u001b[0mkey\u001b[0m\u001b[0;34m.\u001b[0m\u001b[0;34m\u001b[0m\u001b[0;34m\u001b[0m\u001b[0m\n\u001b[1;32m    508\u001b[0m         \"\"\"\n\u001b[0;32m--> 509\u001b[0;31m         \u001b[0mself\u001b[0m\u001b[0;34m.\u001b[0m\u001b[0m_print_pil\u001b[0m\u001b[0;34m(\u001b[0m\u001b[0mfilename_or_obj\u001b[0m\u001b[0;34m,\u001b[0m \u001b[0;34m\"png\"\u001b[0m\u001b[0;34m,\u001b[0m \u001b[0mpil_kwargs\u001b[0m\u001b[0;34m,\u001b[0m \u001b[0mmetadata\u001b[0m\u001b[0;34m)\u001b[0m\u001b[0;34m\u001b[0m\u001b[0;34m\u001b[0m\u001b[0m\n\u001b[0m\u001b[1;32m    510\u001b[0m \u001b[0;34m\u001b[0m\u001b[0m\n\u001b[1;32m    511\u001b[0m     \u001b[0;32mdef\u001b[0m \u001b[0mprint_to_buffer\u001b[0m\u001b[0;34m(\u001b[0m\u001b[0mself\u001b[0m\u001b[0;34m)\u001b[0m\u001b[0;34m:\u001b[0m\u001b[0;34m\u001b[0m\u001b[0;34m\u001b[0m\u001b[0m\n",
            "\u001b[0;32m/usr/local/lib/python3.10/dist-packages/matplotlib/backends/backend_agg.py\u001b[0m in \u001b[0;36m_print_pil\u001b[0;34m(self, filename_or_obj, fmt, pil_kwargs, metadata)\u001b[0m\n\u001b[1;32m    456\u001b[0m         \"\"\"\n\u001b[1;32m    457\u001b[0m         \u001b[0mFigureCanvasAgg\u001b[0m\u001b[0;34m.\u001b[0m\u001b[0mdraw\u001b[0m\u001b[0;34m(\u001b[0m\u001b[0mself\u001b[0m\u001b[0;34m)\u001b[0m\u001b[0;34m\u001b[0m\u001b[0;34m\u001b[0m\u001b[0m\n\u001b[0;32m--> 458\u001b[0;31m         mpl.image.imsave(\n\u001b[0m\u001b[1;32m    459\u001b[0m             \u001b[0mfilename_or_obj\u001b[0m\u001b[0;34m,\u001b[0m \u001b[0mself\u001b[0m\u001b[0;34m.\u001b[0m\u001b[0mbuffer_rgba\u001b[0m\u001b[0;34m(\u001b[0m\u001b[0;34m)\u001b[0m\u001b[0;34m,\u001b[0m \u001b[0mformat\u001b[0m\u001b[0;34m=\u001b[0m\u001b[0mfmt\u001b[0m\u001b[0;34m,\u001b[0m \u001b[0morigin\u001b[0m\u001b[0;34m=\u001b[0m\u001b[0;34m\"upper\"\u001b[0m\u001b[0;34m,\u001b[0m\u001b[0;34m\u001b[0m\u001b[0;34m\u001b[0m\u001b[0m\n\u001b[1;32m    460\u001b[0m             dpi=self.figure.dpi, metadata=metadata, pil_kwargs=pil_kwargs)\n",
            "\u001b[0;32m/usr/local/lib/python3.10/dist-packages/matplotlib/image.py\u001b[0m in \u001b[0;36mimsave\u001b[0;34m(fname, arr, vmin, vmax, cmap, format, origin, dpi, metadata, pil_kwargs)\u001b[0m\n\u001b[1;32m   1687\u001b[0m         \u001b[0mpil_kwargs\u001b[0m\u001b[0;34m.\u001b[0m\u001b[0msetdefault\u001b[0m\u001b[0;34m(\u001b[0m\u001b[0;34m\"format\"\u001b[0m\u001b[0;34m,\u001b[0m \u001b[0mformat\u001b[0m\u001b[0;34m)\u001b[0m\u001b[0;34m\u001b[0m\u001b[0;34m\u001b[0m\u001b[0m\n\u001b[1;32m   1688\u001b[0m         \u001b[0mpil_kwargs\u001b[0m\u001b[0;34m.\u001b[0m\u001b[0msetdefault\u001b[0m\u001b[0;34m(\u001b[0m\u001b[0;34m\"dpi\"\u001b[0m\u001b[0;34m,\u001b[0m \u001b[0;34m(\u001b[0m\u001b[0mdpi\u001b[0m\u001b[0;34m,\u001b[0m \u001b[0mdpi\u001b[0m\u001b[0;34m)\u001b[0m\u001b[0;34m)\u001b[0m\u001b[0;34m\u001b[0m\u001b[0;34m\u001b[0m\u001b[0m\n\u001b[0;32m-> 1689\u001b[0;31m         \u001b[0mimage\u001b[0m\u001b[0;34m.\u001b[0m\u001b[0msave\u001b[0m\u001b[0;34m(\u001b[0m\u001b[0mfname\u001b[0m\u001b[0;34m,\u001b[0m \u001b[0;34m**\u001b[0m\u001b[0mpil_kwargs\u001b[0m\u001b[0;34m)\u001b[0m\u001b[0;34m\u001b[0m\u001b[0;34m\u001b[0m\u001b[0m\n\u001b[0m\u001b[1;32m   1690\u001b[0m \u001b[0;34m\u001b[0m\u001b[0m\n\u001b[1;32m   1691\u001b[0m \u001b[0;34m\u001b[0m\u001b[0m\n",
            "\u001b[0;32m/usr/local/lib/python3.10/dist-packages/PIL/Image.py\u001b[0m in \u001b[0;36msave\u001b[0;34m(self, fp, format, **params)\u001b[0m\n\u001b[1;32m   2426\u001b[0m                 \u001b[0mfp\u001b[0m \u001b[0;34m=\u001b[0m \u001b[0mbuiltins\u001b[0m\u001b[0;34m.\u001b[0m\u001b[0mopen\u001b[0m\u001b[0;34m(\u001b[0m\u001b[0mfilename\u001b[0m\u001b[0;34m,\u001b[0m \u001b[0;34m\"r+b\"\u001b[0m\u001b[0;34m)\u001b[0m\u001b[0;34m\u001b[0m\u001b[0;34m\u001b[0m\u001b[0m\n\u001b[1;32m   2427\u001b[0m             \u001b[0;32melse\u001b[0m\u001b[0;34m:\u001b[0m\u001b[0;34m\u001b[0m\u001b[0;34m\u001b[0m\u001b[0m\n\u001b[0;32m-> 2428\u001b[0;31m                 \u001b[0mfp\u001b[0m \u001b[0;34m=\u001b[0m \u001b[0mbuiltins\u001b[0m\u001b[0;34m.\u001b[0m\u001b[0mopen\u001b[0m\u001b[0;34m(\u001b[0m\u001b[0mfilename\u001b[0m\u001b[0;34m,\u001b[0m \u001b[0;34m\"w+b\"\u001b[0m\u001b[0;34m)\u001b[0m\u001b[0;34m\u001b[0m\u001b[0;34m\u001b[0m\u001b[0m\n\u001b[0m\u001b[1;32m   2429\u001b[0m \u001b[0;34m\u001b[0m\u001b[0m\n\u001b[1;32m   2430\u001b[0m         \u001b[0;32mtry\u001b[0m\u001b[0;34m:\u001b[0m\u001b[0;34m\u001b[0m\u001b[0;34m\u001b[0m\u001b[0m\n",
            "\u001b[0;31mFileNotFoundError\u001b[0m: [Errno 2] No such file or directory: '/content/gdrive/MyDrive/6캔두잇/Data Visualization Result/서울특별시_연도별_1인순이동자수_출생아수.png'"
          ]
        },
        {
          "output_type": "display_data",
          "data": {
            "text/plain": [
              "<Figure size 1300x700 with 1 Axes>"
            ],
            "image/png": "[encoded data removed]"
          },
          "metadata": {}
        }
      ]
    },
    {
      "cell_type": "markdown",
      "source": [
        "#### 연도, 합계출산율, scatterplot"
      ],
      "metadata": {
        "id": "XZFV9cf4UHdZ"
      }
    },
    {
      "cell_type": "code",
      "source": [
        "df_removed_first_row = df.drop(0)"
      ],
      "metadata": {
        "id": "aVdHlWK5UEsO"
      },
      "execution_count": null,
      "outputs": []
    },
    {
      "cell_type": "code",
      "source": [
        "# 데이터 타입 변환 (예: float64)\n",
        "df_removed_first_row = df_removed_first_row.astype('float64')\n",
        "\n",
        "def get_scatter(tfr : str) :\n",
        "    plt.figure(figsize=(13,7))\n",
        "    # Scatter plot 그리기 (hue를 사용하여 범례를 만들고 색상으로 구분)\n",
        "    sns.scatterplot(x='연도', y=tfr, hue=tfr, data=df_removed_first_row)\n",
        "\n",
        "    # 추세선 추가\n",
        "    sns.regplot(x='연도', y=tfr, data=df_removed_first_row, scatter=False)\n",
        "\n",
        "    # 그래프 제목 추가\n",
        "    plt.title(tfr, fontsize=17)\n",
        "\n",
        "    # ylim\n",
        "    plt.ylim(0, 2.0)\n",
        "    # x축과 y축 레이블 추가\n",
        "    plt.ylabel('합계출산율', fontsize=15)\n",
        "    plt.xlabel('연도', fontsize=15)\n",
        "\n",
        "    # 파일명에서 '.1' 제거\n",
        "    tfr_name = tfr.replace('.1', '')\n",
        "\n",
        "    # 범례\n",
        "    legend = plt.legend(fontsize=13)\n",
        "    legend.set_title('합계출산율')\n",
        "\n",
        "    # 파일명에서 '.1' 제거\n",
        "    tfr_name = tfr.replace('.1', '')\n",
        "\n",
        "    # 그래프를 이미지로 저장\n",
        "    # plt.savefig(f'{tfr_name}_연도_합계출산율_scatter.png', dpi=400)\n",
        "    plt.title(f'{tfr_name}')\n",
        "    plt.savefig('/content/gdrive/MyDrive/6캔두잇/Data Visualization Result/'+f'{tfr_name}_연도_합계출산율_scatter.png', dpi=400)\n",
        "\n",
        "for i in tfr :\n",
        "    get_scatter(i)"
      ],
      "metadata": {
        "id": "1ZggiRb3UF9u"
      },
      "execution_count": null,
      "outputs": []
    },
    {
      "cell_type": "code",
      "source": [
        "oecd_df = pd.read_csv('/content/drive/MyDrive/6캔두잇/저출산/저출산 CSV/oecd_young_population.csv')"
      ],
      "metadata": {
        "id": "3-_wwp5IVLTm"
      },
      "execution_count": null,
      "outputs": []
    },
    {
      "cell_type": "code",
      "source": [
        "oecd_df=oecd_df[[\"LOCATION\", \"TIME\", \"Value\"]]\n",
        "\n",
        "oecd_2021_df = oecd_df[oecd_df[\"TIME\"] == 2021]\n",
        "oecd_2021_df.reset_index(drop = True, inplace = True)\n",
        "oecd_2021_df\n",
        "\n",
        "country_mapping = {\n",
        "    'AUS': 'Australia',\n",
        "    'AUT': 'Austria',\n",
        "    'BEL': 'Belgium',\n",
        "    'CAN': 'Canada',\n",
        "    'CZE': 'Czech Republic',\n",
        "    'DNK': 'Denmark',\n",
        "    'FIN': 'Finland',\n",
        "    'FRA': 'France',\n",
        "    'DEU': 'Germany',\n",
        "    'GRC': 'Greece',\n",
        "    'HUN': 'Hungary',\n",
        "    'ISL': 'Iceland',\n",
        "    'IRL': 'Ireland',\n",
        "    'ITA': 'Italy',\n",
        "    'JPN': 'Japan',\n",
        "    'KOR': 'South Korea',\n",
        "    'LUX': 'Luxembourg',\n",
        "    'MEX': 'Mexico',\n",
        "    'NLD': 'Netherlands',\n",
        "    'NZL': 'New Zealand',\n",
        "    'NOR': 'Norway',\n",
        "    'POL': 'Poland',\n",
        "    'PRT': 'Portugal',\n",
        "    'SVK': 'Slovakia',\n",
        "    'ESP': 'Spain',\n",
        "    'SWE': 'Sweden',\n",
        "    'CHE': 'Switzerland',\n",
        "    'TUR': 'Turkey',\n",
        "    'GBR': 'United Kingdom',\n",
        "    'USA': 'United States',\n",
        "    'BRA': 'Brazil',\n",
        "    'CHL': 'Chile',\n",
        "    'COL': 'Colombia',\n",
        "    'EST': 'Estonia',\n",
        "    'ISR': 'Israel',\n",
        "    'SVN': 'Slovenia',\n",
        "    'EU27': 'European Union',\n",
        "    'OECD': 'Organisation for Economic Co-operation and Development',\n",
        "    'LVA': 'Latvia',\n",
        "    'ARG': 'Argentina',\n",
        "    'BGR': 'Bulgaria',\n",
        "    'CHN': 'China',\n",
        "    'CRI': 'Costa Rica',\n",
        "    'HRV': 'Croatia',\n",
        "    'CYP': 'Cyprus',\n",
        "    'IND': 'India',\n",
        "    'IDN': 'Indonesia',\n",
        "    'LTU': 'Lithuania',\n",
        "    'MLT': 'Malta',\n",
        "    'ROU': 'Romania',\n",
        "    'SAU': 'Saudi Arabia',\n",
        "    'SGP': 'Singapore',\n",
        "    'ZAF': 'South Africa',\n",
        "    'WLD': 'World'\n",
        "}\n",
        "\n",
        "# 'LOCATION' 컬럼의 값을 국가명으로 변경\n",
        "oecd_2021_df['LOCATION'] = oecd_2021_df['LOCATION'].map(country_mapping)\n",
        "\n",
        "# 데이터프레임에서 37번 행과 53번 행을 제거\n",
        "oecd_2021_df.drop([37, 53], inplace=True)\n",
        "\n",
        "# 결과 확인\n",
        "print(oecd_2021_df)"
      ],
      "metadata": {
        "id": "rhq-kmkBVP-P"
      },
      "execution_count": null,
      "outputs": []
    },
    {
      "cell_type": "code",
      "source": [
        "from google.colab import drive\n",
        "drive.mount('/content/drive')"
      ],
      "metadata": {
        "id": "zOgr9uDl_Bsf"
      },
      "execution_count": null,
      "outputs": []
    },
    {
      "cell_type": "code",
      "source": [
        "# 세계 지도 데이터 불러오기 (geopandas에서 제공하는 기본 세계 지도)\n",
        "world = gpd.read_file(gpd.datasets.get_path('naturalearth_lowres'))\n",
        "\n",
        "# 국가명을 인덱스로 설정하여 데이터프레임과 지도 데이터 병합\n",
        "world = world.set_index('name').join(oecd_2021_df.set_index('LOCATION'))\n",
        "\n",
        "# 지도 시각화\n",
        "plt.figure(figsize=(13, 7))\n",
        "ax = plt.gca()  # Create a new axis\n",
        "world.plot(column='Value', cmap='Blues', linewidth=0.8, ax=ax, edgecolor='0.8', legend=True)\n",
        "plt.title(\"OECD young population IN 2021\",fontsize=17)\n",
        "\n",
        "# 그래프를 이미지로 저장\n",
        "plt.savefig('/content/gdrive/MyDrive/6캔두잇/Data Visualization Result/OCED_전세계.png', dpi=400)"
      ],
      "metadata": {
        "id": "zBJ-unM4VUKP"
      },
      "execution_count": null,
      "outputs": []
    },
    {
      "cell_type": "code",
      "source": [
        "# 세계 지도 데이터 불러오기 (geopandas에서 제공하는 기본 세계 지도)\n",
        "world = gpd.read_file(gpd.datasets.get_path('naturalearth_lowres'))\n",
        "\n",
        "# 국가명을 인덱스로 설정하여 데이터프레임과 지도 데이터 병합\n",
        "world = world.set_index('name').join(oecd_2021_df.set_index('LOCATION'))\n",
        "\n",
        "# 지도 시각화\n",
        "fig, ax = plt.subplots(figsize=(13, 7))\n",
        "\n",
        "# Set the bounding box to focus on Asia\n",
        "ax.set_xlim(25, 180)  # Longitude range for Asia\n",
        "ax.set_ylim(5, 70)    # Latitude range for Asia\n",
        "\n",
        "world.plot(column='Value', cmap='Blues', linewidth=0.8, ax=ax, edgecolor='0.8', legend=True)\n",
        "plt.title(\"Zoomed-in on Asia\",fontsize=17)\n",
        "\n",
        "# 그래프를 이미지로 저장\n",
        "plt.savefig('/content/gdrive/MyDrive/6캔두잇/Data Visualization Result/OCED_아시아.png', dpi=400)"
      ],
      "metadata": {
        "id": "dQH6-dLtVcYi"
      },
      "execution_count": null,
      "outputs": []
    },
    {
      "cell_type": "code",
      "source": [
        "# 세계 지도 데이터 불러오기 (geopandas에서 제공하는 기본 세계 지도)\n",
        "world = gpd.read_file(gpd.datasets.get_path('naturalearth_lowres'))\n",
        "\n",
        "# 국가명을 인덱스로 설정하여 데이터프레임과 지도 데이터 병합\n",
        "world = world.set_index('name').join(oecd_2021_df.set_index('LOCATION'))\n",
        "\n",
        "# 지도 시각화\n",
        "fig, ax = plt.subplots(figsize=(13, 7))\n",
        "\n",
        "# Set the bounding box to focus on South Korea\n",
        "ax.set_xlim(125, 130)  # Longitude range for South Korea\n",
        "ax.set_ylim(33, 39)    # Latitude range for South Korea\n",
        "\n",
        "world.plot(column='Value', cmap='Blues', linewidth=0.8, ax=ax, edgecolor='0.8', legend=True)\n",
        "plt.title(\"Zoomed-in on South Korea\")\n",
        "\n",
        "# 그래프를 이미지로 저장\n",
        "plt.savefig('/content/gdrive/MyDrive/6캔두잇/Data Visualization Result/OCED_한국.png', dpi=400)"
      ],
      "metadata": {
        "id": "S7ywxJYUVj-Y"
      },
      "execution_count": null,
      "outputs": []
    },
    {
      "cell_type": "markdown",
      "source": [
        "## 앞 부분에 올릴 워드클라우드"
      ],
      "metadata": {
        "id": "Bw7mBgF4OjkK"
      }
    },
    {
      "cell_type": "code",
      "source": [
        "mans_tags = [('결혼과일', 56),\n",
        " ('동시에어려움',56),\n",
        " ('무직', 150),\n",
        " ('고용상태불안정', 166),\n",
        " ('출산부담', 110),\n",
        " ('양육부담', 110),\n",
        " ('결혼상대없음', 105),\n",
        " ('나이어림', 50),\n",
        " ('나이많음', 50),\n",
        " ('삶의자유', 93),\n",
        " ('배우자가족관계부담', 50),\n",
        " ('필요하지않음', 123),\n",
        " ('기타', 2),\n",
        " ('결혼자금부족', 208)]\n",
        "\n",
        "from wordcloud import WordCloud\n",
        "\n",
        "# 워드클라우드 색깔 지정\n",
        "from matplotlib.colors import LinearSegmentedColormap\n",
        "colors = [\"#F2EE9D\", \"#7A9D54\", \"#8C3333\"]\n",
        "cmap = LinearSegmentedColormap.from_list(\"mycmap\", colors)\n",
        "\n",
        "# 워드클라우드 생성\n",
        "wordcloud = WordCloud(font_path = '/usr/share/fonts/truetype/nanum/NanumGothic.ttf',\n",
        "                      background_color = 'white', width = 250, height=250,margin = 3,\n",
        "                      colormap=cmap, max_font_size=50, random_state=43).generate_from_frequencies(dict(mans_tags))\n",
        "\n",
        "plt.figure(figsize=(13,7))\n",
        "plt.axis('off')\n",
        "plt.imshow(wordcloud)\n",
        "plt.savefig('/content/gdrive/MyDrive/6캔두잇/Data Visualization Result/남성_워드클라우드.png', dpi=1000)"
      ],
      "metadata": {
        "id": "OIrvrT-mOhbB"
      },
      "execution_count": null,
      "outputs": []
    },
    {
      "cell_type": "code",
      "source": [
        "womanstags = [('결혼과일', 97),\n",
        " ('동시에어려움',97),\n",
        " ('무직', 117),\n",
        " ('고용상태불안정', 117),\n",
        " ('출산부담', 137),\n",
        " ('양육부담', 137),\n",
        " ('결혼상대없음', 129),\n",
        " ('나이어림', 30),\n",
        " ('나이많음', 30),\n",
        " ('삶의자유', 93),\n",
        " ('배우자가족관계부담', 50),\n",
        " ('필요하지않음', 150),\n",
        " ('기타', 10),\n",
        " ('결혼자금부족', 240)]\n",
        "\n",
        "from wordcloud import WordCloud\n",
        "\n",
        "# 워드클라우드 색깔 지정\n",
        "from matplotlib.colors import LinearSegmentedColormap\n",
        "colors = [\"#982176\", \"#3E001F\", \"#FFE5AD\"]\n",
        "cmap = LinearSegmentedColormap.from_list(\"mycmap\", colors)\n",
        "\n",
        "# 워드클라우드 생성\n",
        "wordcloud = WordCloud(font_path = '/usr/share/fonts/truetype/nanum/NanumGothic.ttf',\n",
        "                      background_color = 'white', width = 250, height=250,margin = 3,\n",
        "                      colormap=cmap, max_font_size=50, random_state=43).generate_from_frequencies(dict(womanstags))\n",
        "\n",
        "plt.figure(figsize=(13,7))\n",
        "plt.axis('off')\n",
        "plt.imshow(wordcloud)\n",
        "plt.savefig('/content/gdrive/MyDrive/6캔두잇/Data Visualization Result/여성_워드클라우드.png', dpi=400)"
      ],
      "metadata": {
        "id": "Qj3ELndSQmRo"
      },
      "execution_count": null,
      "outputs": []
    },
    {
      "cell_type": "markdown",
      "source": [
        "# 서론"
      ],
      "metadata": {
        "id": "DpToZfXWVX9q"
      }
    },
    {
      "cell_type": "markdown",
      "source": [
        "#**OECD국가들의 1인당 국민 총 소득과 출산율**\n",
        "\n",
        "\n",
        "*   데이터 : 2000 ~ 2021 중 2000, 2010, 2021만 사용\n",
        "*   1인당 국민 총 소득이 높은 국가일수록 출산율이 높아질까 낮아질까?\n",
        "\n"
      ],
      "metadata": {
        "id": "l5eynE2tVg5C"
      }
    },
    {
      "cell_type": "code",
      "source": [
        "Econom = pd.read_csv(path+'1인당_국민총소득_당해년가격__OECD회원국(2000~2021).csv', encoding='CP949')\n",
        "Econom = Econom.dropna('index')\n",
        "Birth = pd.read_csv(path+'합계출산율_OECD회원국(1950~2022).csv', encoding='CP949')\n",
        "Birth = Birth.dropna('index')"
      ],
      "metadata": {
        "id": "4snOAeIOP-UQ"
      },
      "execution_count": null,
      "outputs": []
    },
    {
      "cell_type": "code",
      "source": [
        "row_names = np.array(Birth['국가별'])\n",
        "Economic2000_2021 = {} ; Birth2000_2021 = {}\n",
        "for j in range(2000,2022):\n",
        "    Economic2000_2021[j] = list(pd.to_numeric(Econom[str(j)], errors='coerce'))\n",
        "    Birth2000_2021[j] = list(pd.to_numeric(Birth[str(j)], errors='coerce'))"
      ],
      "metadata": {
        "id": "4gJMG24sWG0b"
      },
      "execution_count": null,
      "outputs": []
    },
    {
      "cell_type": "code",
      "source": [
        "### 2000년\n",
        "index2000 = np.argsort(Economic2000_2021[2000])\n",
        "row_names2000 = [] ; Economic2000 = [] ; Birth2000 = []\n",
        "for i in index2000:\n",
        "    row_names2000.append(row_names[i])\n",
        "    Economic2000.append(Economic2000_2021[2000][i])\n",
        "    Birth2000.append(Birth2000_2021[2000][i])\n",
        "\n",
        "fig, ax1 = plt.subplots(figsize=(13,7))\n",
        "ax1.bar(row_names2000,Economic2000)\n",
        "ax1.set_ylim(0,100000)\n",
        "\n",
        "ax2 = ax1.twinx()\n",
        "ax2.plot(row_names2000, Birth2000,'o-',color='r')\n",
        "ax2.set_ylim(0,3.50)\n",
        "\n",
        "ax1.tick_params(axis='x', labelrotation = 90)\n",
        "plt.title('In 2000', size=15)\n",
        "ax1.set_xlabel('OECD 국가', fontsize=13)\n",
        "ax1.set_ylabel('1인당 국민 총 소득', fontsize=13)\n",
        "ax2.set_ylabel('출산율', fontsize=13)\n",
        "ax1.legend(['1인당 국민 총 소득'], fontsize=12)\n",
        "ax2.legend(['출산율'], fontsize=12)\n",
        "\n",
        "plt.savefig('/content/gdrive/MyDrive/6캔두잇/Data Visualization Result/OECD 2000.jpg', dpi=400)\n",
        "plt.show()"
      ],
      "metadata": {
        "id": "uKRV8m9oWVRr"
      },
      "execution_count": null,
      "outputs": []
    },
    {
      "cell_type": "code",
      "source": [
        "### 2010년\n",
        "index2010 = np.argsort(Economic2000_2021[2010])\n",
        "row_names2010 = [] ; Economic2010 = [] ; Birth2010 = []\n",
        "for i in index2010:\n",
        "    row_names2010.append(row_names[i])\n",
        "    Economic2010.append(Economic2000_2021[2010][i])\n",
        "    Birth2010.append(Birth2000_2021[2010][i])\n",
        "\n",
        "fig, ax1 = plt.subplots(figsize=(13,7))\n",
        "ax1.bar(row_names2010,Economic2010)\n",
        "ax1.set_ylim(0,100000)\n",
        "\n",
        "ax2 = ax1.twinx()\n",
        "ax2.plot(row_names2010, Birth2010,'o-',color='r')\n",
        "ax2.set_ylim(0,3.50)\n",
        "\n",
        "ax1.tick_params(axis='x', labelrotation = 90)\n",
        "plt.title('In 2010', fontsize=15)\n",
        "ax1.set_xlabel('OECD 국가', fontsize=13)\n",
        "ax1.set_ylabel('1인당 국민 총 소득', fontsize=13)\n",
        "ax2.set_ylabel('출산율', fontsize=13)\n",
        "ax1.legend(['1인당 국민 총 소득'], fontsize=12)\n",
        "ax2.legend(['출산율'], fontsize=12)\n",
        "\n",
        "plt.savefig('/content/gdrive/MyDrive/6캔두잇/Data Visualization Result/OECD 2010.jpg', dpi=400)\n",
        "plt.show()"
      ],
      "metadata": {
        "id": "LYnISbGKXN4e"
      },
      "execution_count": null,
      "outputs": []
    },
    {
      "cell_type": "code",
      "source": [
        "### 2021년\n",
        "index2021 = np.argsort(Economic2000_2021[2021])\n",
        "row_names2021 = [] ; Economic2021 = [] ; Birth2021 = []\n",
        "for i in index2021:\n",
        "    row_names2021.append(row_names[i])\n",
        "    Economic2021.append(Economic2000_2021[2021][i])\n",
        "    Birth2021.append(Birth2000_2021[2021][i])\n",
        "\n",
        "fig, ax1 = plt.subplots(figsize=(13,7))\n",
        "ax1.bar(row_names2021,Economic2021)\n",
        "ax1.set_ylim(0,100000)\n",
        "\n",
        "ax2 = ax1.twinx()\n",
        "ax2.plot(row_names2021, Birth2021,'o-',color='r')\n",
        "ax2.set_ylim(0,3.50)\n",
        "\n",
        "ax1.tick_params(axis='x', labelrotation = 90)\n",
        "plt.title('In 2021', fontsize=15)\n",
        "ax1.set_xlabel('OECD 국가', fontsize=13)\n",
        "ax1.set_ylabel('1인당 국민 총 소득', fontsize=13)\n",
        "ax2.set_ylabel('출산율', fontsize=13)\n",
        "ax1.legend(['1인당 국민 총 소득'], fontsize=12)\n",
        "ax2.legend(['출산율'], fontsize=12)\n",
        "\n",
        "plt.savefig('/content/gdrive/MyDrive/6캔두잇/Data Visualization Result/OECD 2021.jpg', dpi=400)\n",
        "plt.show()"
      ],
      "metadata": {
        "id": "ZzqZCgbzXSxF"
      },
      "execution_count": null,
      "outputs": []
    },
    {
      "cell_type": "markdown",
      "source": [
        "##### **결과 분석**\n",
        "\n",
        "- 1인당 국민 총 소득과 출산율은 관계가 없는 것으로 보임"
      ],
      "metadata": {
        "id": "duPxLiY8XjR4"
      }
    },
    {
      "cell_type": "markdown",
      "source": [
        "### 대한민국의 연도별 출생건수, 합계출산율\n",
        "\n",
        "\n",
        "*   데이터 : 1970 ~ 2022년"
      ],
      "metadata": {
        "id": "oUbZbLSzYLm5"
      }
    },
    {
      "cell_type": "code",
      "source": [
        "birth = pd.read_csv(path+\"출생아수_합계출산율(1970-2022).csv\",\n",
        "    encoding='cp949',\n",
        "    index_col=0,\n",
        "    header=0,)\n",
        "birth.columns = range(1970, 2023)"
      ],
      "metadata": {
        "id": "qmy2FkshYd8Y"
      },
      "execution_count": null,
      "outputs": []
    },
    {
      "cell_type": "code",
      "source": [
        "plt.figure(figsize=(13,7))\n",
        "sns.lineplot(x=range(1970, 2023), y=birth.loc['출생아수(명)'],marker='o',color='red')\n",
        "plt.title(\"연도에 따른 출생아수(1970-2022)\",fontsize=17)\n",
        "plt.xlabel('연도',fontsize=15)\n",
        "plt.ylabel('출생아수(명)',fontsize=15)\n",
        "plt.xticks(fontsize=14)\n",
        "plt.yticks(fontsize=14) ; plt.ylim(0,1.2e6)\n",
        "plt.grid(True, zorder=0)\n",
        "plt.savefig('/content/gdrive/MyDrive/6캔두잇/Data Visualization Result/연도에 따른 출생아수.jpg', dpi=400)\n",
        "plt.show()"
      ],
      "metadata": {
        "id": "lyw0ZJDmAZB0"
      },
      "execution_count": null,
      "outputs": []
    },
    {
      "cell_type": "code",
      "source": [
        "plt.figure(figsize=(13,7))\n",
        "sns.lineplot(x=range(1970, 2023), y=birth.loc['합계출산율(명)'],marker='o',color='red')\n",
        "plt.title(\"연도에 따른 합계출산율(1970-2022)\",fontsize=17)\n",
        "\n",
        "plt.xlabel('연도',fontsize=15)\n",
        "plt.ylabel('합계출산율(명)',fontsize=15)\n",
        "plt.xticks(fontsize=14)\n",
        "plt.yticks(fontsize=14) ; plt.ylim(0,5)\n",
        "plt.grid(True, zorder=0)\n",
        "plt.savefig('/content/gdrive/MyDrive/6캔두잇/저출산/Data Visualization Result/연도에 따른 출생아수.jpg', dpi=400)\n",
        "plt.show()"
      ],
      "metadata": {
        "id": "3RekTJBjBKKW"
      },
      "execution_count": null,
      "outputs": []
    },
    {
      "cell_type": "markdown",
      "source": [
        "### OECD 합계 출산율 비교"
      ],
      "metadata": {
        "id": "fho0fuFZMKni"
      }
    },
    {
      "cell_type": "code",
      "source": [
        "df = pd.read_csv(path+\"합계출산율_OECD회원국(2015~2022).csv\",encoding='cp949')"
      ],
      "metadata": {
        "id": "RxLfHf9JMKC1"
      },
      "execution_count": null,
      "outputs": []
    },
    {
      "cell_type": "code",
      "source": [
        "south_korea_data = df[df['국가별'] == '대한민국']\n",
        "\n",
        "south_korea_data = south_korea_data.drop(columns='국가별').transpose()\n",
        "\n",
        "south_korea_data = south_korea_data.reset_index()\n",
        "south_korea_data.columns = ['Year', '대한민국의 합계출산율']\n",
        "\n",
        "south_korea_data['Year'] = south_korea_data['Year'].astype(int)\n",
        "\n",
        "oecd_avg_data = df.drop(columns='국가별').mean()\n",
        "\n",
        "oecd_avg_data = oecd_avg_data.reset_index()\n",
        "oecd_avg_data.columns = ['Year', 'OECD 회원국의 평균 합계출산율']\n",
        "\n",
        "oecd_avg_data['Year'] = oecd_avg_data['Year'].astype(int)\n",
        "\n",
        "merged_data = pd.merge(south_korea_data, oecd_avg_data, on='Year')\n",
        "\n",
        "plt.figure(figsize=(13, 7))\n",
        "sns.lineplot(x='Year', y='대한민국의 합계출산율', data=merged_data, marker='o', color='b', label='대한민국')\n",
        "sns.lineplot(x='Year', y='OECD 회원국의 평균 합계출산율', data=merged_data, marker='o', color='r', label='OECD 회원국 평균')\n",
        "plt.xlabel('Year',fontsize=15)\n",
        "plt.ylabel('합계출산율',fontsize=15)\n",
        "plt.title('대한민국과 OECD 회원국 평균의 연도별 합계출산율 비교',fontsize=17)\n",
        "plt.yticks(fontsize=14) ; plt.ylim(0,7)\n",
        "plt.xticks(fontsize=14)\n",
        "\n",
        "plt.legend(fontsize=13)\n",
        "plt.grid(True,zorder=0)\n",
        "plt.savefig('/content/gdrive/MyDrive/6캔두잇/Data Visualization Result/대한민국과 OECD 회원국 평균의 연도별 합계출산율 비교(line plot).jpg',dpi=400)\n",
        "plt.show()"
      ],
      "metadata": {
        "id": "UHn5q3H4MZpT"
      },
      "execution_count": null,
      "outputs": []
    },
    {
      "cell_type": "markdown",
      "source": [
        "# 본론"
      ],
      "metadata": {
        "id": "zH5jHOFLYjY3"
      }
    },
    {
      "cell_type": "markdown",
      "source": [
        "### 경제적 요인"
      ],
      "metadata": {
        "id": "ZmKz6SwrYlH_"
      }
    },
    {
      "cell_type": "markdown",
      "source": [
        "#### 1인당 국민 총소득(GNI)\n",
        "- 국민총소득(GNI) : 국민이 벌어들인 총소득으로서, 한 국가 국민의 소비와 후생에 절대적인 영향을 미친다는 점에서 웰빙의 경제적 기초를 포괄적으로 보여주는 지표\n",
        "- 1인당 GNI : 국민의 평균적인 소득수준을 나타내며 소득수준의 국가 간 비교에 활용\n"
      ],
      "metadata": {
        "id": "11Z3FvmvYst3"
      }
    },
    {
      "cell_type": "code",
      "source": [
        "df = pd.read_csv(path+'1인당 국민총소득 (1961~2022).csv', encoding='utf-8')\n",
        "df.rename(columns={'변환':'시점'}, inplace= True)\n",
        "df['원자료'].astype(int)"
      ],
      "metadata": {
        "id": "WlZC_4dKYqqb"
      },
      "execution_count": null,
      "outputs": []
    },
    {
      "cell_type": "code",
      "source": [
        "x_array = df['시점']\n",
        "y_array = df['원자료']"
      ],
      "metadata": {
        "id": "e7mJwK3Pt6GZ"
      },
      "execution_count": null,
      "outputs": []
    },
    {
      "cell_type": "code",
      "source": [
        "plt.figure(figsize = (13,7))\n",
        "plt.title('1인당 GNI', fontsize=17)\n",
        "plt.xlabel('연도', size=15)\n",
        "plt.xticks(size=14)\n",
        "plt.yticks(size=14)\n",
        "plt.xlim(xmin=1960, xmax=2023)\n",
        "plt.ylim(ymin=0, ymax=40000)\n",
        "plt.ylabel('아틀라스방식달러')\n",
        "plt.grid(True)\n",
        "plt.plot(x_array, y_array,'o-',linewidth= 3,color='r')\n",
        "plt.savefig('/content/gdrive/MyDrive/6캔두잇/저출산/Data Visualization Result/1인당 국민소득 (1961~2022).jpg',dpi=400)\n",
        "plt.show()"
      ],
      "metadata": {
        "id": "9RnUJHnCuCEg"
      },
      "execution_count": null,
      "outputs": []
    },
    {
      "cell_type": "code",
      "source": [
        "ndf = df.iloc[1:62:10]\n",
        "nx = ndf['시점']\n",
        "ny = np.log(ndf['원자료'])\n",
        "\n",
        "fig, ax = plt.subplots(figsize=(13,7))\n",
        "\n",
        "b1 = plt.bar(nx, ny, width= 7, align='center',color='mediumblue')\n",
        "b2 = plt.plot(nx, ny, 'o-', markersize=5,linestyle='-', linewidth=3,color='r')\n",
        "\n",
        "plt.xlabel('연도', size = 15)\n",
        "plt.ylabel('log(1인당 GNI)', size = 15)\n",
        "plt.xticks(nx, fontsize=14)\n",
        "plt.yticks(fontsize=14)\n",
        "\n",
        "plt.title('10년마다 1인당 GNI의 log', fontsize=17)\n",
        "plt.ylim(4, 11)\n",
        "\n",
        "plt.grid(True,axis='y',zorder=1)\n",
        "ax.set_axisbelow(1)\n",
        "plt.savefig('/content/gdrive/MyDrive/6캔두잇/저출산/Data Visualization Result/1인당 국민소득 log (10년 가안격).jpg',dpi=400)\n",
        "plt.show()"
      ],
      "metadata": {
        "id": "2MpEOHPyvZYJ"
      },
      "execution_count": null,
      "outputs": []
    },
    {
      "cell_type": "markdown",
      "source": [
        "##### **결과 분석**\n",
        "시간이 지날수록 1인당 GNI 증가율이 감소한다.\n",
        " 자녀세대가 자신보다 더 나은 삶을 살 것이라는 확신이 점점 줄어든다.\n",
        " 그래서 사람들이 점점 아이를 낳기 꺼려한다."
      ],
      "metadata": {
        "id": "mPmxxdVWxcqU"
      }
    },
    {
      "cell_type": "markdown",
      "source": [
        "#### 학생 1인당 월평균 사교육비"
      ],
      "metadata": {
        "id": "5Iz_Gr4yByDn"
      }
    },
    {
      "cell_type": "code",
      "source": [
        "df = pd.read_csv(path+'학생1인당_월평균_사교육비(2007~2022).csv', encoding='utf-8')\n",
        "df.fillna(method='ffill', inplace=True)"
      ],
      "metadata": {
        "id": "9KBvhH4RBxe5"
      },
      "execution_count": null,
      "outputs": []
    },
    {
      "cell_type": "code",
      "source": [
        "df_total = df[df['Unnamed: 0'] == '전체']"
      ],
      "metadata": {
        "id": "p71IML3EB-DS"
      },
      "execution_count": null,
      "outputs": []
    },
    {
      "cell_type": "code",
      "source": [
        "plt.figure(figsize=(13, 7))\n",
        "years = df.columns[2:].astype(int)\n",
        "costs = df_total.iloc[0, 2:].astype(float)\n",
        "sns.lineplot(x=years, y=costs, marker='o', color='b')\n",
        "plt.title('학생 1인당 사교육비 (시계열 Line Plot)',fontsize=17)\n",
        "plt.xlabel('연도',fontsize=15)\n",
        "plt.ylabel('비용',fontsize=15)\n",
        "plt.xticks(fontsize=14)\n",
        "plt.yticks(fontsize=14)\n",
        "plt.ylim(20,50)\n",
        "plt.grid(True)\n",
        "plt.savefig('/content/gdrive/MyDrive/6캔두잇/Data Visualization Result/학생 1인당 사교육비 (시계열 Line Plot).jpg',dpi=400)\n",
        "plt.show()"
      ],
      "metadata": {
        "id": "v7bPzUyJCD-a"
      },
      "execution_count": null,
      "outputs": []
    },
    {
      "cell_type": "code",
      "source": [
        "plt.figure(figsize=(13, 7))\n",
        "\n",
        "sns.barplot(x=years, y=costs, palette='viridis',zorder=2)\n",
        "plt.title('학생 1인당 사교육비 (시계열 Bar Plot)',fontsize=17)\n",
        "plt.xlabel('연도',fontsize=15)\n",
        "plt.ylabel('비용',fontsize=15)\n",
        "plt.xticks(fontsize=14)\n",
        "plt.yticks(fontsize=14)\n",
        "plt.grid(True,axis='y',zorder=0)\n",
        "plt.savefig('/content/gdrive/MyDrive/6캔두잇/Data Visualization Result/학생 1인당 사교육비 (시계열 Bar Plot).jpg',dpi=400)\n",
        "plt.show()"
      ],
      "metadata": {
        "id": "5Il8rhlxCtTb"
      },
      "execution_count": null,
      "outputs": []
    },
    {
      "cell_type": "code",
      "source": [
        "df_elementary = df[df['Unnamed: 1'] == '초등학교']\n",
        "df_middle = df[df['Unnamed: 1'] == '중학교']\n",
        "df_high = df[df['Unnamed: 1'] == '고등학교']\n",
        "\n",
        "plt.figure(figsize=(13, 7))\n",
        "\n",
        "years = df.columns[2:].astype(int)\n",
        "\n",
        "# 초등학교 학생 사교육비\n",
        "sns.lineplot(x=years, y=df_elementary.iloc[0, 2:].astype(float), label='초등학교',marker='o', color='g',zorder=2)\n",
        "\n",
        "# 중학교 학생 사교육비\n",
        "sns.lineplot(x=years, y=df_middle.iloc[0, 2:].astype(float), label='중학교',marker='o', color='blue',zorder=2)\n",
        "\n",
        "# 고등학교 학생 사교육비\n",
        "sns.lineplot(x=years, y=df_high.iloc[0, 2:].astype(float), label='고등학교',marker='o', color='hotpink',zorder=2)\n",
        "\n",
        "plt.title('교육단계별 학생 사교육비 (시계열 Line Plot)',fontsize=17)\n",
        "plt.xlabel('연도',fontsize=15)\n",
        "plt.ylabel('비용',fontsize=15)\n",
        "plt.legend(fontsize=13)\n",
        "plt.xticks(fontsize=14)\n",
        "plt.yticks(fontsize=14)\n",
        "plt.grid(True,zorder=0)\n",
        "plt.savefig('/content/gdrive/MyDrive/6캔두잇/Data Visualization Result/교육단계별 학생 사교육비 (시계열 Line Plot).jpg',dpi=400)\n",
        "plt.show()"
      ],
      "metadata": {
        "id": "vlL65XTTDA17"
      },
      "execution_count": null,
      "outputs": []
    },
    {
      "cell_type": "markdown",
      "source": [
        "#### 집값\n",
        "- 아파트 월세가격지수\n",
        "- 아파트 매매가격지수"
      ],
      "metadata": {
        "id": "l55m2EcHDz4n"
      }
    },
    {
      "cell_type": "code",
      "source": [
        "df = pd.read_csv(path+'아파트월세가격지수_시도_시_군_구__(2015~2023).csv', encoding='cp949')"
      ],
      "metadata": {
        "id": "UGaczHmoD3Zf"
      },
      "execution_count": null,
      "outputs": []
    },
    {
      "cell_type": "code",
      "source": [
        "regions = df['행정구역별']\n",
        "\n",
        "years = df.columns[1:]\n",
        "\n",
        "national_prices = df.iloc[0, 1:].astype(float)\n",
        "\n",
        "plt.figure(figsize=(13, 7))\n",
        "sns.lineplot(x=years, y=national_prices,marker='o', color='r',zorder=2)\n",
        "plt.title('전국 아파트 월세가격지수 변화 (Line Plot)',fontsize=17)\n",
        "plt.xlabel('연도',fontsize=15)\n",
        "plt.ylabel('아파트 월세가격지수',fontsize=15)\n",
        "plt.xticks(range(0, len(years), 12), years[::12], fontsize=14)\n",
        "plt.yticks(fontsize=14)\n",
        "plt.grid(True,zorder=0)\n",
        "plt.savefig('/content/gdrive/MyDrive/6캔두잇/Data Visualization Result/전국 아파트 월세가격지수 변화(Line Plot).jpg',dpi=400)\n",
        "plt.show()"
      ],
      "metadata": {
        "id": "cGT-W3aVD-Kv"
      },
      "execution_count": null,
      "outputs": []
    },
    {
      "cell_type": "code",
      "source": [
        "df = pd.read_csv(path+'아파트매매가격지수_시도_시_군_구__(2004~2023).csv', encoding='cp949')"
      ],
      "metadata": {
        "id": "7iL3sIFeJHHl"
      },
      "execution_count": null,
      "outputs": []
    },
    {
      "cell_type": "code",
      "source": [
        "regions = df['행정구역별']\n",
        "\n",
        "years = df.columns[1:]\n",
        "\n",
        "national_prices = df.iloc[0, 1:].astype(float)\n",
        "\n",
        "plt.figure(figsize=(13, 7))\n",
        "sns.lineplot(x=years, y=national_prices,marker='o', color='r',zorder=2)\n",
        "plt.title('전국 아파트 매매가격지수 변화 (Line Plot)',fontsize=17)\n",
        "plt.xlabel('연도',fontsize=15)\n",
        "plt.ylabel('아파트 매매가격지수',fontsize=15)\n",
        "plt.xticks(range(0, len(years), 24), years[::24],fontsize=14)\n",
        "plt.yticks(fontsize=14); plt.ylim(50,110)\n",
        "plt.grid(True,zorder=0)\n",
        "plt.savefig('/content/gdrive/MyDrive/6캔두잇/Data Visualization Result/전국 아파트 매매가격지수 변화 (Line Plot).jpg',dpi=400)\n",
        "plt.show()"
      ],
      "metadata": {
        "id": "2Dh7EvLmJNNA"
      },
      "execution_count": null,
      "outputs": []
    },
    {
      "cell_type": "markdown",
      "source": [
        "#### 신혼부부통계\n",
        "- 연도별 신혼부부 수 변화\n",
        "- 연도에 따른 맞벌이여부별 신혼부부 수 변화\n",
        "- 연도별 맞벌이 비율 변화\n",
        "- 신혼부부수와 주택소유율\n",
        "- 연도별 평균 출생아수\n",
        "- 연도에 따른 맞벌이여부별 자녀있음 비율의 차이\n",
        "- 연도별 평균 출생아수변화\n",
        "- 연도에 따른 주택소유여부별 자녀있음 비율의 차이\n",
        "- 연도에 따른 주택소유여부별 평균 출생아수\n",
        "- 연도에 따른 소득구간별 평균 출생아수"
      ],
      "metadata": {
        "id": "-tRHPJB9xhaa"
      }
    },
    {
      "cell_type": "code",
      "source": [
        "married = pd.read_csv(path+'married.csv', encoding='cp949')\n",
        "df1 = pd.DataFrame(married)"
      ],
      "metadata": {
        "id": "fGxsCYWPRqxT"
      },
      "execution_count": null,
      "outputs": []
    },
    {
      "cell_type": "code",
      "source": [
        "df1_nation = df1[df1['행정구역별'] == '전국']"
      ],
      "metadata": {
        "id": "D8QRI---xmiO"
      },
      "execution_count": null,
      "outputs": []
    },
    {
      "cell_type": "code",
      "source": [
        "plt.figure(figsize=(13,7))\n",
        "\n",
        "plt.bar(df1_nation['시점'], df1_nation['신혼부부 수 (A)'], zorder=2,color='skyblue')\n",
        "\n",
        "plt.xlabel('연도', fontsize=15)\n",
        "plt.ylabel('신혼부부 수',fontsize=15)\n",
        "plt.grid(False)\n",
        "plt.title('연도별 신혼부부 수 변화', fontsize=17)\n",
        "plt.xticks(fontsize=14)\n",
        "plt.ylim(0,1.6e6)\n",
        "plt.yticks(fontsize=14)\n",
        "\n",
        "plt.grid(True, axis='y', zorder=0)\n",
        "plt.savefig('/content/gdrive/MyDrive/6캔두잇/Data Visualization Result/연도별 신혼부부 수 변화.jpg',dpi=400)\n",
        "plt.show()"
      ],
      "metadata": {
        "id": "p2cSdzFRcZqZ"
      },
      "execution_count": null,
      "outputs": []
    },
    {
      "cell_type": "code",
      "source": [
        "df1_nation['맞벌이 부부 수'] = df1_nation['맞벌이 부부 수 (B)']\n",
        "df1_nation['비맞벌이 부부 수'] = df1_nation['신혼부부 수 (A)'] - df1_nation['맞벌이 부부 수']\n",
        "\n",
        "plt.figure(figsize=(13, 7))\n",
        "\n",
        "p1 = plt.bar(df1_nation['시점'], df1_nation['맞벌이 부부 수'], color='skyblue',zorder=2)\n",
        "p2 = plt.bar(df1_nation['시점'], df1_nation['비맞벌이 부부 수'], bottom=df1_nation['맞벌이 부부 수'], color='grey',zorder=2)\n",
        "\n",
        "plt.xlabel('연도',fontsize=15)\n",
        "plt.ylabel('신혼부부 수',fontsize=15)\n",
        "plt.title('연도에 따른 맞벌이여부별 신혼부부 수 변화',fontsize=17)\n",
        "plt.legend((p1[0], p2[0]), ('맞벌이', '비맞벌이'), fontsize=13)\n",
        "plt.xticks(fontsize=14)\n",
        "plt.yticks(fontsize=14) ; plt.ylim(0,1.6e6)\n",
        "\n",
        "plt.grid(True, axis='y', zorder=0)\n",
        "plt.savefig('/content/gdrive/MyDrive/6캔두잇/Data Visualization Result/연도에 따른 맞벌이여부별 신혼부부 수 변화.jpg',dpi=400)\n",
        "plt.show()"
      ],
      "metadata": {
        "id": "pu4pO4nmdOGA"
      },
      "execution_count": null,
      "outputs": []
    },
    {
      "cell_type": "code",
      "source": [
        "df1_nation['비맞벌이 비율'] = 100 - df1_nation['맞벌이 비율']\n",
        "\n",
        "plt.figure(figsize=(13, 7))\n",
        "\n",
        "p1 = plt.barh(df1_nation['시점'], df1_nation['맞벌이 비율'], color='skyblue',zorder=2)\n",
        "p2 = plt.barh(df1_nation['시점'], df1_nation['비맞벌이 비율'], left=df1_nation['맞벌이 비율'], color='grey',zorder=2)\n",
        "\n",
        "plt.xlabel('비율 (%)',fontsize=15)\n",
        "plt.ylabel('연도',fontsize=15)\n",
        "plt.title('연도별 맞벌이 비율변화',fontsize=17)\n",
        "plt.legend(['맞벌이', '비맞벌이'], bbox_to_anchor=(1.05, 1), loc='upper left',fontsize=13)\n",
        "plt.xticks(fontsize=14) ; plt.yticks(fontsize=14) ; plt.xlim(0,100)\n",
        "\n",
        "plt.grid(True, axis='x', zorder=0)\n",
        "plt.savefig('/content/gdrive/MyDrive/6캔두잇/Data Visualization Result/연도별 맞벌이 비율 변화1.jpg',dpi=400)\n",
        "plt.show()"
      ],
      "metadata": {
        "id": "MMBp2E62eEzc"
      },
      "execution_count": null,
      "outputs": []
    },
    {
      "cell_type": "code",
      "source": [
        "df1_nation['비맞벌이 비율'] = 100 - df1_nation['맞벌이 비율']\n",
        "\n",
        "plt.figure(figsize=(13, 7))\n",
        "\n",
        "p1 = plt.bar(df1_nation['시점'], df1_nation['맞벌이 비율'], color='skyblue',zorder=2)\n",
        "p2 = plt.bar(df1_nation['시점'], df1_nation['비맞벌이 비율'], bottom=df1_nation['맞벌이 비율'], color='grey',zorder=2)\n",
        "\n",
        "plt.ylabel('비율 (%)', fontsize=15)\n",
        "plt.xlabel('연도',fontsize=15)\n",
        "plt.title('연도별 맞벌이 비율변화',fontsize=17)\n",
        "plt.xticks(fontsize=14) ; plt.yticks(fontsize=14) ; plt.ylim(0,100)\n",
        "plt.legend(['맞벌이', '비맞벌이'], bbox_to_anchor=(1.05, 1), loc='upper left',fontsize=13)\n",
        "\n",
        "plt.grid(True, axis='y', zorder=0)\n",
        "plt.savefig('/content/gdrive/MyDrive/6캔두잇/Data Visualization Result/연도별 맞벌이 비율 변화2.jpg',dpi=400)\n",
        "plt.show()"
      ],
      "metadata": {
        "id": "nEbYkNz-kemZ"
      },
      "execution_count": null,
      "outputs": []
    },
    {
      "cell_type": "code",
      "source": [
        "df1_nation['비맞벌이 비율'] = - (100 - df1_nation['맞벌이 비율'])\n",
        "\n",
        "plt.figure(figsize=(13, 7))\n",
        "\n",
        "p1 = plt.barh(df1_nation['시점'], df1_nation['맞벌이 비율'], color='mediumblue',zorder=2)\n",
        "p2 = plt.barh(df1_nation['시점'], df1_nation['비맞벌이 비율'], color='gainsboro',zorder=2)\n",
        "\n",
        "plt.xlabel('비율',fontsize=15)\n",
        "plt.ylabel('연도',fontsize=15)\n",
        "plt.title('연도별 맞벌이 비율 변화',fontsize=17)\n",
        "plt.legend(['맞벌이', '비맞벌이'], bbox_to_anchor=(0.85, 0.15), loc='upper left',fontsize=13)\n",
        "plt.gca().xaxis.set_major_formatter(mticker.FuncFormatter(lambda x, pos: '{:0.0f}'.format(abs(x))))\n",
        "plt.xticks(fontsize=14) ; plt.yticks(fontsize=14) ; plt.xlim(-60,60)\n",
        "\n",
        "plt.grid(True, axis='x', zorder=0)\n",
        "plt.savefig('/content/gdrive/MyDrive/6캔두잇/저출산/Data Visualization Result/연도별 맞벌이 비율 변화3.jpg',dpi=400)\n",
        "plt.show()"
      ],
      "metadata": {
        "id": "6X38Oh2pk-e4"
      },
      "execution_count": null,
      "outputs": []
    },
    {
      "cell_type": "code",
      "source": [
        "fig, ax1 = plt.subplots(figsize=(13, 7))\n",
        "\n",
        "p1 = ax1.bar(df1_nation['시점'], df1_nation['신혼부부 수 (A)'], color='skyblue',label='신혼부부 수')\n",
        "ax1.set_ylabel('신혼부부 수 (A)',fontsize=15)\n",
        "ax1.tick_params('y',labelsize=14)\n",
        "ax1.tick_params('x',labelsize=14)\n",
        "ax1.legend(['신혼부부수'],bbox_to_anchor=(1.1, 1), loc='upper left',fontsize=13)\n",
        "ax1.set_ylim([0, 1.6e6])\n",
        "\n",
        "ax2 = ax1.twinx()\n",
        "p2 = ax2.plot(df1_nation['시점'], df1_nation['주택 소유율'], 'o-',color='hotpink',label='주택 소유율')\n",
        "ax2.set_ylabel('주택 소유율', color='black',fontsize=15)\n",
        "ax2.tick_params('y', colors='black',labelsize=14)\n",
        "ax2.legend(['주택소유율'],bbox_to_anchor=(1.1, 0.90), loc='upper left',fontsize=13)\n",
        "\n",
        "ax2.set_ylim([40, 50])\n",
        "ax2.yaxis.set_major_formatter(mticker.PercentFormatter())\n",
        "plt.xlabel('연도',fontsize=15)\n",
        "plt.title('신혼부부 수 (A)와 주택 소유율',fontsize=17)\n",
        "plt.xticks(fontsize=14)\n",
        "plt.grid(False)\n",
        "\n",
        "plt.savefig('/content/gdrive/MyDrive/6캔두잇/Data Visualization Result/신혼부부수와 주택소유율.jpg',dpi=400)\n",
        "plt.show()"
      ],
      "metadata": {
        "id": "NIK3Qj00lvxT"
      },
      "execution_count": null,
      "outputs": []
    },
    {
      "cell_type": "code",
      "source": [
        "years = df1_nation['시점']\n",
        "avg_births = df1_nation[' 평균 출생아 수']\n",
        "\n",
        "# 그래프 그리기\n",
        "plt.figure(figsize=(13, 7))\n",
        "plt.plot(years, avg_births, marker='o', color='green', label=' 평균 출생아 수',zorder=2)\n",
        "plt.xlabel('연도',fontsize=15)\n",
        "plt.ylabel(' 평균 출생아 수',fontsize=15)\n",
        "plt.title('연도별 평균 출생아 수',fontsize=17)\n",
        "plt.grid(True, zorder=0)\n",
        "plt.ylim(0.6, 1.2)\n",
        "plt.xticks(fontsize=14) ; plt.yticks(fontsize=14)\n",
        "\n",
        "plt.savefig('/content/gdrive/MyDrive/6캔두잇/Data Visualization Result/연도별 평균 출생아수.jpg',dpi=400)\n",
        "plt.show()"
      ],
      "metadata": {
        "id": "iLNI7hi7ri47"
      },
      "execution_count": null,
      "outputs": []
    },
    {
      "cell_type": "code",
      "source": [
        "dual = pd.read_csv(path+'dual.csv', encoding='cp949')\n",
        "df2 = pd.DataFrame(dual)\n",
        "df2_selected = df2[(df2['시도별(1)'] == '전국') & ((df2['신혼부부 특성별(1)'] == '맞벌이여부별') | (df2['신혼부부 특성별(1)'] == '주택소유물건수별'))]"
      ],
      "metadata": {
        "id": "-X6q3rX6s7CF"
      },
      "execution_count": null,
      "outputs": []
    },
    {
      "cell_type": "code",
      "source": [
        "df2_selected"
      ],
      "metadata": {
        "id": "GQCfaEJkXWl3"
      },
      "execution_count": null,
      "outputs": []
    },
    {
      "cell_type": "code",
      "source": [
        "df2_selected['시점'] = pd.to_numeric(df2_selected['시점'], errors='coerce')\n",
        "df2_selected['합계'] = pd.to_numeric(df2_selected['합계'], errors='coerce')\n",
        "df2_selected['자녀있음'] = pd.to_numeric(df2_selected['자녀있음'], errors='coerce')\n",
        "df2_selected['자녀있음_비율'] = df2_selected['자녀있음'] / df2_selected['합계'] * 100"
      ],
      "metadata": {
        "id": "2UyxhnnhN8dH"
      },
      "execution_count": null,
      "outputs": []
    },
    {
      "cell_type": "code",
      "source": [
        "### dual_income에는 자녀있음 비율 컬럼이 없음!\n",
        "barWidth = 0.4\n",
        "df2_selected['시점'] = df2_selected['시점'].astype(int)\n",
        "\n",
        "fig, ax = plt.subplots(figsize=(13, 7))\n",
        "plt.grid(True, zorder=0, axis='y')\n",
        "\n",
        "# 맞벌이 부부의 자녀있음 비율을 나타내는 막대 그래프\n",
        "dual_income = df2_selected[df2_selected['신혼부부 특성별(2)'] == '맞벌이']\n",
        "bar1 = plt.bar(dual_income['시점'] - barWidth/2, dual_income['자녀있음_비율'], color='skyblue', width=barWidth, label='맞벌이',zorder=2)\n",
        "\n",
        "# 외벌이 부부의 자녀있음 비율을 나타내는 막대 그래프\n",
        "non_dual_income = df2_selected[df2_selected['신혼부부 특성별(2)'] == '외벌이']\n",
        "bar2 = plt.bar(non_dual_income['시점'] + barWidth/2, non_dual_income['자녀있음_비율'], color='grey', width=barWidth, label='외벌이',zorder=2)\n",
        "\n",
        "plt.xlabel('연도',fontsize=15)\n",
        "plt.ylabel('자녀있음 비율',fontsize=15)\n",
        "plt.title('연도에 따른 맞벌이여부별 자녀있음 비율의 차이',fontsize=17)\n",
        "plt.legend(['맞벌이','외벌이'],fontsize=13)\n",
        "plt.xticks(fontsize=14)\n",
        "plt.yticks(fontsize=14) ; plt.ylim(0,100)\n",
        "\n",
        "plt.savefig('/content/gdrive/MyDrive/6캔두잇/저출산/Data Visualization Result/연도에 따른 맞벌이여부별 자녀있음 비율의 차이.jpg',dpi=400)\n",
        "plt.show()"
      ],
      "metadata": {
        "id": "6nJO3P0Ps9i4"
      },
      "execution_count": null,
      "outputs": []
    },
    {
      "cell_type": "code",
      "source": [
        "### df_match가 뭐얌\n",
        "\n",
        "df_match = df2_selected[df2_selected['신혼부부 특성별(2)'] == '맞벌이']\n",
        "df_no_match = df2_selected[df2_selected['신혼부부 특성별(2)'] == '외벌이']\n",
        "\n",
        "df_match['평균 출생아수'] = df_match['평균 출생아수'].astype(float)\n",
        "df_no_match['평균 출생아수'] = df_no_match['평균 출생아수'].astype(float)\n",
        "\n",
        "plt.figure(figsize=(13,7))\n",
        "plt.grid(True, axis='y',zorder=0)\n",
        "sns.lineplot(data=df_match, x='시점', y='평균 출생아수', color='mediumblue', marker='o', label='맞벌이',linewidth=3,zorder=2)\n",
        "sns.lineplot(data=df_no_match, x='시점', y='평균 출생아수', color='grey', marker='o', label='외벌이',linewidth=3,zorder=2)\n",
        "plt.ylabel('평균 출생아 수',fontsize=15)\n",
        "plt.xlabel('연도',fontsize=15)\n",
        "plt.legend(loc='upper right',fontsize=13)\n",
        "plt.title('연도별 평균 출생아 수 변화',fontsize=17)\n",
        "plt.ylim(0.6, 1.2) ; plt.yticks(fontsize=14)\n",
        "plt.xticks(fontsize=14)\n",
        "\n",
        "plt.savefig('/content/gdrive/MyDrive/6캔두잇/저출산/Data Visualization Result/연도별 평균 출생아 수 변화.jpg',dpi=400)\n",
        "plt.show()"
      ],
      "metadata": {
        "id": "ynL0r4LXwsGh"
      },
      "execution_count": null,
      "outputs": []
    },
    {
      "cell_type": "code",
      "source": [
        "df_ownership = df2[(df2['시도별(1)'] == '전국') &(df2['신혼부부 특성별(2)'].isin(['주택 미소유', '주택 소유']))]"
      ],
      "metadata": {
        "id": "WWXUynJnxusY"
      },
      "execution_count": null,
      "outputs": []
    },
    {
      "cell_type": "code",
      "source": [
        "df_ownership = df2[df2['신혼부부 특성별(2)'].isin(['주택 미소유', '주택 소유'])]\n",
        "\n",
        "df_ownership['시점'] = pd.to_numeric(df_ownership['시점'], errors='coerce')\n",
        "df_ownership['합계'] = pd.to_numeric(df_ownership['합계'], errors='coerce')\n",
        "df_ownership['자녀있음'] = pd.to_numeric(df_ownership['자녀있음'], errors='coerce')\n",
        "\n",
        "df_ownership.dropna(subset=['시점', '합계', '자녀있음'], inplace=True)\n",
        "\n",
        "df_ownership['자녀있음_비율'] = df_ownership['자녀있음'] / df_ownership['합계'] * 100\n",
        "\n",
        "fig, ax = plt.subplots(figsize=(13, 7))\n",
        "plt.grid(True, axis='y',zorder=0)\n",
        "barWidth = 0.40\n",
        "years = df_ownership['시점'].unique()\n",
        "num_bars = len(years)\n",
        "\n",
        "for i, year in enumerate(years):\n",
        "    df_own = df_ownership[(df_ownership['시점'] == year) & (df_ownership['신혼부부 특성별(2)'] == '주택 소유')]\n",
        "    df_non_own = df_ownership[(df_ownership['시점'] == year) & (df_ownership['신혼부부 특성별(2)'] == '주택 미소유')]\n",
        "\n",
        "    # 각 연도별로 막대 그래프 위치를 조정하여 나란히 그리기\n",
        "    x1 = i - barWidth / 2\n",
        "    x2 = i + barWidth / 2\n",
        "\n",
        "    bar1 = plt.bar(x1, df_own['자녀있음_비율'].values[0], color='skyblue', width=barWidth, label='주택 소유',zorder=2)\n",
        "    bar2 = plt.bar(x2, df_non_own['자녀있음_비율'].values[0], color='grey',width=barWidth, label='주택 미소유',zorder=2)\n",
        "\n",
        "plt.xlabel('연도',fontsize=15)\n",
        "plt.ylabel('자녀있음 비율',fontsize=15)\n",
        "plt.title('연도에 따른 주택소유여부 별 자녀있음 비율의 차이',fontsize=17)\n",
        "plt.legend(['주택 소유', '주택 미소유'],fontsize=13)\n",
        "plt.xticks(range(num_bars), years,fontsize=14) ; plt.ylim(0,80)\n",
        "plt.yticks(fontsize=14)\n",
        "\n",
        "\n",
        "plt.savefig('/content/gdrive/MyDrive/6캔두잇/Data Visualization Result/연도에 따른 주택소유여부 별 자녀있음 비율의 차이.jpg',dpi=400)\n",
        "plt.show()"
      ],
      "metadata": {
        "id": "XwL3xqMFxxmU"
      },
      "execution_count": null,
      "outputs": []
    },
    {
      "cell_type": "code",
      "source": [
        "df_ownership['평균 출생아수'] = df_ownership['평균 출생아수'].astype(float)\n",
        "df_nationwide = df_ownership[df_ownership['시도별(1)'] == '전국']\n",
        "\n",
        "df_own = df_nationwide[df_nationwide['신혼부부 특성별(2)'] == '주택 소유']\n",
        "df_non_own = df_nationwide[df_nationwide['신혼부부 특성별(2)'] == '주택 미소유']\n",
        "\n",
        "plt.figure(figsize=(13, 7))\n",
        "plt.grid(True,zorder=0)\n",
        "plt.plot(df_own['시점'], df_own['평균 출생아수'], color='hotpink', marker='o', label='주택 소유',zorder=2)\n",
        "plt.plot(df_non_own['시점'], df_non_own['평균 출생아수'], color='green', marker='o', label='주택 미소유',zorder=2)\n",
        "plt.ylabel('평균 출생아 수',fontsize=15)\n",
        "plt.xlabel('연도',fontsize=15)\n",
        "plt.legend(loc='upper right')\n",
        "plt.title('연도에 따른 주택소유여부 별 평균 출생아 수',fontsize=17)\n",
        "plt.ylim(0.6, 1.2)\n",
        "plt.xticks(fontsize=14) ; plt.yticks(fontsize=14)\n",
        "\n",
        "plt.savefig('/content/gdrive/MyDrive/6캔두잇/Data Visualization Result/연도에 따른 주택소유여부 별 평균 출생아 수.jpg',dpi=400)\n",
        "plt.show()"
      ],
      "metadata": {
        "id": "nI-tCp5mylba"
      },
      "execution_count": null,
      "outputs": []
    },
    {
      "cell_type": "code",
      "source": [
        "income = pd.read_csv(path+'income.csv', encoding='cp949')\n",
        "df3 = pd.DataFrame(income)\n",
        "income_groups = df3['소득구간별(1)'].unique()\n",
        "\n",
        "# 그래프를 그립니다.\n",
        "plt.figure(figsize=(13, 7))\n",
        "markers = ['o', 's', 'D', '^', 'v', 'p', '*', 'H']  # 각 소득구간별로 다른 마커를 사용하기 위한 리스트\n",
        "\n",
        "# 소득구간별 그래프를 그립니다.\n",
        "for income_group in income_groups:\n",
        "    df_group = df3[df3['소득구간별(1)'] == income_group].copy()  # .copy()를 사용하여 원본 데이터프레임을 복사합니다.\n",
        "    df_group['평균 출생아수'] = pd.to_numeric(df_group['평균 출생아수 (명)'], errors='coerce')\n",
        "    df_group.dropna(subset=['평균 출생아수'], inplace=True)  # NaN 값을 제거합니다.\n",
        "    plt.plot(df_group['시점'], df_group['평균 출생아수'], label=income_group, marker=markers[i],zorder=2)\n",
        "\n",
        "plt.title('연도에 따른 소득구간별 평균 출생아 수',fontsize=17)\n",
        "plt.xlabel('연도',fontsize=15)\n",
        "plt.ylabel('평균 출생아 수',fontsize=15)\n",
        "plt.grid(True, zorder=0)\n",
        "plt.legend(title='소득구간', bbox_to_anchor=(1.05, 1), loc='upper left',fontsize=13)\n",
        "plt.xticks(fontsize=14) ; plt.yticks(fontsize=14)\n",
        "\n",
        "# y축 범위를 0.6부터 1.2까지로 통일합니다.\n",
        "plt.ylim(0.6, 1.2)\n",
        "plt.savefig('/content/gdrive/MyDrive/6캔두잇/Data Visualization Result/연도에 따른 소득구간별 평균 출생아 수.jpg',dpi=400)\n",
        "\n",
        "plt.show()"
      ],
      "metadata": {
        "id": "pV6bbvxLzFBQ"
      },
      "execution_count": null,
      "outputs": []
    },
    {
      "cell_type": "code",
      "source": [],
      "metadata": {
        "id": "w5FP2Awvz0eb"
      },
      "execution_count": null,
      "outputs": []
    },
    {
      "cell_type": "markdown",
      "source": [
        "### 사회문화적 요인"
      ],
      "metadata": {
        "id": "sktXoiOmZDZO"
      }
    },
    {
      "cell_type": "markdown",
      "source": [
        "#### 여성의 사회 진출\n",
        "- 데이터 : 2000 ~ 2022년(2022, 2023년의 월별로 정리되어있는 것은 사용 X)\n",
        "- 시각화 방법 : 영역 그래프"
      ],
      "metadata": {
        "id": "1JKCOzvrZKLm"
      }
    },
    {
      "cell_type": "code",
      "source": [
        "FemaleEntering = pd.read_csv(path+'시도, 성별 경제활동인구.csv', encoding='CP949')"
      ],
      "metadata": {
        "id": "9R6Li3_KZOUF"
      },
      "execution_count": null,
      "outputs": []
    },
    {
      "cell_type": "code",
      "source": [
        "# 연도별 데이터 정리\n",
        "FE2000 = FemaleEntering[['2000','2000.1','2000.2','2000.3','2000.4','2000.5','2000.6']]\n",
        "FE2001 = FemaleEntering[['2001','2001.1','2001.2','2001.3','2001.4','2001.5','2001.6']]\n",
        "FE2002 = FemaleEntering[['2002','2002.1','2002.2','2002.3','2002.4','2002.5','2002.6']]\n",
        "FE2003 = FemaleEntering[['2003','2003.1','2003.2','2003.3','2003.4','2003.5','2003.6']]\n",
        "FE2004 = FemaleEntering[['2004','2004.1','2004.2','2004.3','2004.4','2004.5','2004.6']]\n",
        "FE2005 = FemaleEntering[['2005','2005.1','2005.2','2005.3','2005.4','2005.5','2005.6']]\n",
        "FE2006 = FemaleEntering[['2006','2006.1','2006.2','2006.3','2006.4','2006.5','2006.6']]\n",
        "FE2007 = FemaleEntering[['2007','2007.1','2007.2','2007.3','2007.4','2007.5','2007.6']]\n",
        "FE2008 = FemaleEntering[['2008','2008.1','2008.2','2008.3','2008.4','2008.5','2008.6']]\n",
        "FE2009 = FemaleEntering[['2009','2009.1','2009.2','2009.3','2009.4','2009.5','2009.6']]\n",
        "FE2010 = FemaleEntering[['2010','2010.1','2010.2','2010.3','2010.4','2010.5','2010.6']]\n",
        "FE2011 = FemaleEntering[['2011','2011.1','2011.2','2011.3','2011.4','2011.5','2011.6']]\n",
        "FE2012 = FemaleEntering[['2012','2012.1','2012.2','2012.3','2012.4','2012.5','2012.6']]\n",
        "FE2013 = FemaleEntering[['2013','2013.1','2013.2','2013.3','2013.4','2013.5','2013.6']]\n",
        "FE2014 = FemaleEntering[['2014','2014.1','2014.2','2014.3','2014.4','2014.5','2014.6']]\n",
        "FE2015 = FemaleEntering[['2015','2015.1','2015.2','2015.3','2015.4','2015.5','2015.6']]\n",
        "FE2016 = FemaleEntering[['2016','2016.1','2016.2','2016.3','2016.4','2016.5','2016.6']]\n",
        "FE2017 = FemaleEntering[['2017','2017.1','2017.2','2017.3','2017.4','2017.5','2017.6']]\n",
        "FE2018 = FemaleEntering[['2018','2018.1','2018.2','2018.3','2018.4','2018.5','2018.6']]\n",
        "FE2019 = FemaleEntering[['2019','2019.1','2019.2','2019.3','2019.4','2019.5','2019.6']]\n",
        "FE2020 = FemaleEntering[['2020','2020.1','2020.2','2020.3','2020.4','2020.5','2020.6']]\n",
        "FE2021 = FemaleEntering[['2021','2021.1','2021.2','2021.3','2021.4','2021.5','2021.6']]\n",
        "FE2022 = FemaleEntering[['2022','2022.1','2022.2','2022.3','2022.4','2022.5','2022.6']]"
      ],
      "metadata": {
        "id": "JKYpi25xZvi2"
      },
      "execution_count": null,
      "outputs": []
    },
    {
      "cell_type": "code",
      "source": [
        "FE = [FE2000,FE2001,FE2002,FE2003,FE2004,FE2005,FE2006,FE2007,FE2008,\n",
        "      FE2009,FE2010,FE2011,FE2012,FE2013,FE2014,FE2015,FE2016,FE2017,\n",
        "      FE2018,FE2019,FE2020,FE2021,FE2022]"
      ],
      "metadata": {
        "id": "C5ki2QFNZy39"
      },
      "execution_count": null,
      "outputs": []
    },
    {
      "cell_type": "code",
      "source": [
        "# 여성 인구 수\n",
        "FE_F = []\n",
        "for i in FE:\n",
        "    Female = int(i.iloc[3,0])\n",
        "    FE_F.append(Female)\n",
        "FE_F = np.array(FE_F)\n",
        "\n",
        "# 전체 15세이상인구 중 여자의 비율\n",
        "FE_FperW = []\n",
        "for i in FE:\n",
        "    FperW = int(i.iloc[3,0])/int(i.iloc[1,0])*100\n",
        "    FE_FperW.append(FperW)\n",
        "FE_FperW = np.array(FE_FperW)"
      ],
      "metadata": {
        "id": "bvexXbiqZ3Ae"
      },
      "execution_count": null,
      "outputs": []
    },
    {
      "cell_type": "code",
      "source": [
        "# 경제 활동에 참가하는 여성 인구 수\n",
        "FE_FE = []\n",
        "for i in FE:\n",
        "    Female = int(i.iloc[3,1])\n",
        "    FE_FE.append(Female)\n",
        "FE_FE = np.array(FE_FE)\n",
        "\n",
        "# 전체 여성의 인구중 경제활동에 참가하는 비율(=여성의 사회 진출 비율)\n",
        "FE_Frate = []\n",
        "for i in FE:\n",
        "    FE_Frate.append(float(i.iloc[3,3]))\n",
        "FE_Frate = np.array(FE_Frate)"
      ],
      "metadata": {
        "id": "H5kbpR4pZ4pN"
      },
      "execution_count": null,
      "outputs": []
    },
    {
      "cell_type": "code",
      "source": [
        "x = np.arange(2000,2023,1)\n",
        "xt = np.arange(2000,2023,2)\n",
        "\n",
        "fig, ax = plt.subplots(figsize=(13,7))\n",
        "\n",
        "b1 = plt.plot(x, FE_F, 'o-', color='skyblue', markersize=3, label='전체')\n",
        "b2 = plt.plot(x, FE_FE, 'o-', color='hotpink', markersize=3, label='경제 활동 참가')\n",
        "plt.fill_between(x, FE_F ,color='skyblue', alpha=0.2)\n",
        "plt.fill_between(x, FE_FE ,color='hotpink', alpha=0.2)\n",
        "\n",
        "for i in range(len(x)):\n",
        "    height = FE_FE[i]\n",
        "    plt.text(x[i], height + 500, '%.1f' %FE_Frate[i], ha='center', va='bottom', size = 11)\n",
        "\n",
        "plt.xticks(xt,size=14)\n",
        "plt.xlim(xmin=1999.5, xmax=2022.5)\n",
        "plt.ylim(ymin=0,ymax=25000)\n",
        "plt.yticks(np.arange(0,25000+1,5000), size=14)\n",
        "plt.title('여성의 사회적 진출', size=17)\n",
        "plt.xlabel('연도(년)', size = 15)\n",
        "plt.ylabel('여성의 인구수(천명)', size = 15)\n",
        "plt.legend(fontsize=13)\n",
        "plt.grid(True,axis='x',zorder=0)\n",
        "plt.savefig('/content/gdrive/MyDrive/6캔두잇/Data Visualization Result/여성의 사회적 진출.jpg', dpi=400)\n",
        "plt.show()"
      ],
      "metadata": {
        "id": "jJacMAVTZ9le"
      },
      "execution_count": null,
      "outputs": []
    },
    {
      "cell_type": "markdown",
      "source": [
        "##### **결과 분석**\n",
        "- 전체 여성의 인구가 늘고 있음\n",
        "- $\\frac{경제 활동 참가 여성}{전체 여성}$의 비율 ↑ $\\Rightarrow$ 여성의 사회적 진출이 점점 늘고 있음"
      ],
      "metadata": {
        "id": "T3c8x6cHaN6n"
      }
    },
    {
      "cell_type": "markdown",
      "source": [
        "#### 1인 가구의 증가\n",
        "- 데이터 : 1985, 1990, 1995, 2000, 2005, 2010, 2015, 2020(5년단위)\n",
        "- 시각화 방법 : 영역 그래프, 피라미드 차트 gif"
      ],
      "metadata": {
        "id": "rZS5TAcMabBf"
      }
    },
    {
      "cell_type": "code",
      "source": [
        "# 전체 계 , 1인 가구수\n",
        "S1985_2010 = pd.read_csv(path+'1인 가구/가구원수별 가구(1980~2010).csv', encoding='CP949')\n",
        "S1985 = S1985_2010[['가구원수별','1985']]\n",
        "S1990 = S1985_2010[['가구원수별','1990']]\n",
        "S1995 = S1985_2010[['가구원수별','1995']]\n",
        "S2000 = S1985_2010[['가구원수별','2000']]\n",
        "S2005 = S1985_2010[['가구원수별','2005']]\n",
        "S2010 = S1985_2010[['가구원수별','2010']]\n",
        "S2015_2020 = pd.read_csv(path+'1인 가구/가구원수별 가구(2015~2021).csv', encoding='CP949')\n",
        "S2015 = S2015_2020[['행정구역별(읍면동)','2015','2015.1']]\n",
        "S2020 = S2015_2020[['행정구역별(읍면동)','2020','2020.1']]\n",
        "\n",
        "# 연령별 1인 가구수\n",
        "SA_1985 = pd.read_csv(path+'1인 가구/연령별 1인가구(1985).csv', encoding='CP949')\n",
        "SA_1985 = pd.concat([SA_1985.iloc[:15],SA_1985.iloc[256:271]], ignore_index=True)\n",
        "SA_1990 = pd.read_csv(path+'1인 가구/연령별 1인가구(1990).csv', encoding='CP949')\n",
        "SA_1990 = pd.concat([SA_1990.iloc[:15],SA_1990.iloc[256:271]], ignore_index=True)\n",
        "SA_1995 = pd.read_csv(path+'1인 가구/연령별 1인가구(1995).csv', encoding='CP949')\n",
        "SA_1995 = pd.concat([SA_1995.iloc[:15],SA_1995.iloc[288:304]], ignore_index=True)\n",
        "## 2000년 부터 성별로 나눠져있음\n",
        "SA_2000 = pd.read_csv(path+'1인 가구/연령별 1인가구(2000).csv', encoding='CP949')\n",
        "SA_2000 = SA_2000.iloc[0:4].transpose()\n",
        "    ### 2005년\n",
        "SA_2005 = pd.read_csv(path+'1인 가구/연령별 1인가구(2005).csv', encoding='CP949')\n",
        "SA_2005 = SA_2005[['성별','연령별','2005']].iloc[:49]\n",
        "SA_2005T = ((SA_2005.drop([0], axis=0).iloc[:16]).drop(['성별'], axis=1)).reset_index(drop=True)\n",
        "SA_2005M = ((SA_2005.iloc[17:33]).drop(['성별'],axis=1)).rename(columns = {'2005': '남성'}).reset_index(drop=True)\n",
        "SA_2005F = ((SA_2005.iloc[33:]).drop(['성별'], axis=1)).rename(columns = {'2005': '여성'}).reset_index(drop=True)\n",
        "SA_2005 = pd.concat([SA_2005T,SA_2005M,SA_2005F], axis=1)\n",
        "    ### 2010년\n",
        "SA_2010 = pd.read_csv(path+'1인 가구/연령별 1인가구(2010).csv', encoding='CP949')\n",
        "SA_2010 = SA_2010[['성별','연령별','2010']].iloc[:49]\n",
        "SA_2010T = ((SA_2010.drop([0], axis=0).iloc[:16]).drop(['성별'], axis=1)).reset_index(drop=True)\n",
        "SA_2010M = ((SA_2010.iloc[17:33]).drop(['성별'],axis=1)).rename(columns = {'2010': '남성'}).reset_index(drop=True)\n",
        "SA_2010F = ((SA_2010.iloc[33:]).drop(['성별'], axis=1)).rename(columns = {'2010': '여성'}).reset_index(drop=True)\n",
        "SA_2010 = pd.concat([SA_2010T,SA_2010M,SA_2010F], axis=1)\n",
        "    ### 2015년~\n",
        "SA_2015_2020 = pd.read_csv(path+'1인 가구/연령별 1인가구(2015~2021).csv', encoding='CP949')\n",
        "SA_2015 = SA_2015_2020[['연령별','2015','2015.1','2015.2']].iloc[:17]\n",
        "SA_2020 = SA_2015_2020[['연령별','2020','2020.1','2020.2']].iloc[:17]"
      ],
      "metadata": {
        "id": "1cgHL76paXHf"
      },
      "execution_count": null,
      "outputs": []
    },
    {
      "cell_type": "markdown",
      "source": [
        "**연도별 1인 가구의 비율 : 영역 그래프**"
      ],
      "metadata": {
        "id": "zdyM1YcZh3U8"
      }
    },
    {
      "cell_type": "code",
      "source": [
        "# 연도별 1인 가구수, 전체 가구수, 1인 가구수 비율\n",
        "Single = [] ; TH1 = [] ; SperT = []\n",
        "Single.append(int(S1985.iloc[2,1])); TH1.append(int(S1985.iloc[1,1])); SperT.append(int(S1985.iloc[2,1])/int(S1985.iloc[1,1])*100)\n",
        "Single.append(int(S1990.iloc[2,1])); TH1.append(int(S1990.iloc[1,1])); SperT.append(int(S1990.iloc[2,1])/int(S1990.iloc[1,1])*100)\n",
        "Single.append(int(S1995.iloc[2,1])); TH1.append(int(S1995.iloc[1,1])); SperT.append(int(S1995.iloc[2,1])/int(S1995.iloc[1,1])*100)\n",
        "Single.append(int(S2000.iloc[2,1])); TH1.append(int(S2000.iloc[1,1])); SperT.append(int(S2000.iloc[2,1])/int(S2000.iloc[1,1])*100)\n",
        "Single.append(int(S2005.iloc[2,1])); TH1.append(int(S2005.iloc[1,1])); SperT.append(int(S2005.iloc[2,1])/int(S2005.iloc[1,1])*100)\n",
        "Single.append(int(S2010.iloc[2,1])); TH1.append(int(S2010.iloc[1,1])); SperT.append(int(S2010.iloc[2,1])/int(S2010.iloc[1,1])*100)\n",
        "Single.append(int(S2015.iloc[1,2])); TH1.append(int(S2015.iloc[1,1])); SperT.append(int(S2015.iloc[1,2])/int(S2015.iloc[1,1])*100)\n",
        "Single.append(int(S2020.iloc[1,2])); TH1.append(int(S2020.iloc[1,1])); SperT.append(int(S2020.iloc[1,2])/int(S2020.iloc[1,1])*100)\n",
        "\n",
        "Single = np.array(Single); TH1 = np.array(TH1); SperT = np.array(SperT)"
      ],
      "metadata": {
        "id": "H1YRbNBLhxFQ"
      },
      "execution_count": null,
      "outputs": []
    },
    {
      "cell_type": "code",
      "source": [
        "# 그래프 그리기\n",
        "x = np.arange(1985,2021,5)\n",
        "\n",
        "fig, ax = plt.subplots(figsize=(13,7))\n",
        "\n",
        "b1 = plt.plot(x, TH1, 'o-', color='skyblue', markersize=3, label='전체')\n",
        "b2 = plt.plot(x, Single, 'o-', color='hotpink', markersize=3, label='1인 가구')\n",
        "plt.fill_between(x, TH1 ,color='skyblue', alpha=0.2)\n",
        "plt.fill_between(x, Single ,color='hotpink', alpha=0.2)\n",
        "\n",
        "for i in range(len(x)):\n",
        "    height = Single[i]\n",
        "    plt.text(x[i], height + 2e5, '%.1f' %SperT[i], ha='center', va='bottom', size = 11)\n",
        "\n",
        "plt.xticks(x,size=14)\n",
        "plt.xlim(xmin=1984, xmax=2021)\n",
        "plt.ylim(ymin=6e5,ymax=220e5)\n",
        "plt.yticks(np.arange(0,220e5,30e5), size=14)\n",
        "plt.title('1인 가구의 변화', size=17)\n",
        "plt.xlabel('연도(년)', size = 15)\n",
        "plt.ylabel('가구 수', size = 15)\n",
        "plt.legend(fontsize=13)\n",
        "plt.grid(True,axis='x',zorder=0)\n",
        "plt.savefig('/content/gdrive/MyDrive/6캔두잇/Data Visualization Result/1인 가구의 변화.jpg', dpi=400)\n",
        "plt.show()"
      ],
      "metadata": {
        "id": "dMhgjYeoh29a"
      },
      "execution_count": null,
      "outputs": []
    },
    {
      "cell_type": "markdown",
      "source": [
        "**연도별 1인 가구의 연령 변화 : 수평 bar chart gif파일**"
      ],
      "metadata": {
        "id": "CsQaFW7SiF5W"
      }
    },
    {
      "cell_type": "code",
      "source": [
        "# 1985년 ~ 1995년\n",
        "SA_1985age = [] ; SA_1990age = [] ; SA_1995age = []\n",
        "for i in range(16,26,2):\n",
        "    SA_1985age.append(SA_1985.iloc[i,3] + SA_1985.iloc[i+1,3])\n",
        "    SA_1990age.append(SA_1990.iloc[i,3] + SA_1990.iloc[i+1,3])\n",
        "    SA_1995age.append(SA_1995.iloc[i,3] + SA_1995.iloc[i+1,3])\n",
        "SA_1985age.append(SA_1985.iloc[26,3] + SA_1985.iloc[27,3] + SA_1985.iloc[28,3] + SA_1985.iloc[29,3])\n",
        "SA_1990age.append(SA_1990.iloc[26,3] + SA_1990.iloc[27,3] + SA_1990.iloc[28,3] + SA_1990.iloc[29,3])\n",
        "SA_1995age.append(SA_1995.iloc[26,3] + SA_1995.iloc[27,3] + SA_1995.iloc[28,3] + SA_1995.iloc[29,3])\n",
        "\n",
        "# 2000년\n",
        "SA_2000age = []\n",
        "for i in range(3,15,2):\n",
        "    SA_2000age.append(int(SA_2000.iloc[i,1]) + int(SA_2000.iloc[i+1,1]))\n",
        "\n",
        "# 2005년 ~ 2020년\n",
        "SA_2005age = [int(SA_2005.iloc[1,1])]\n",
        "SA_2010age = [int(SA_2010.iloc[1,1])]\n",
        "SA_2015age = [int(SA_2015.iloc[2,1])]\n",
        "SA_2020age = [int(SA_2020.iloc[2,1])]\n",
        "for i in range(2,9,2):\n",
        "    SA_2005age.append(int(SA_2005.iloc[i,1]) + int(SA_2005.iloc[i+1,1]))\n",
        "    SA_2010age.append(int(SA_2010.iloc[i,1]) + int(SA_2010.iloc[i+1,1]))\n",
        "    SA_2015age.append(int(SA_2015.iloc[i+1,1]) + int(SA_2015.iloc[i+2,1]))\n",
        "    SA_2020age.append(int(SA_2020.iloc[i+1,1]) + int(SA_2020.iloc[i+2,1]))\n",
        "\n",
        "SA_2005age.append(int(SA_2005.iloc[10,1]) + int(SA_2005.iloc[11,1]) + int(SA_2005.iloc[12,1]) + int(SA_2005.iloc[13,1]) + int(SA_2005.iloc[14,1]) + int(SA_2005.iloc[15,1]))\n",
        "SA_2010age.append(int(SA_2010.iloc[10,1]) + int(SA_2010.iloc[11,1]) + int(SA_2010.iloc[12,1]) + int(SA_2010.iloc[13,1]) + int(SA_2010.iloc[14,1]) + int(SA_2010.iloc[15,1]))\n",
        "SA_2015age.append(int(SA_2015.iloc[11,1]) + int(SA_2015.iloc[12,1]) + int(SA_2015.iloc[13,1]) + int(SA_2015.iloc[14,1]) + int(SA_2015.iloc[15,1]) + int(SA_2015.iloc[16,1]))\n",
        "SA_2020age.append(int(SA_2020.iloc[11,1]) + int(SA_2020.iloc[12,1]) + int(SA_2020.iloc[13,1]) + int(SA_2020.iloc[14,1]) + int(SA_2020.iloc[15,1]) + int(SA_2020.iloc[16,1]))"
      ],
      "metadata": {
        "id": "9pWW08dFiEHD"
      },
      "execution_count": null,
      "outputs": []
    },
    {
      "cell_type": "code",
      "source": [
        "fig, ax = plt.subplots(figsize=[13, 7])\n",
        "#plt.figure(figsize = [30,30])\n",
        "\n",
        "year = [1985,1990,1995,2000,2005,2010,2015,2020]\n",
        "SA_age = [SA_1985age, SA_1990age, SA_1995age, SA_2000age, SA_2005age, SA_2010age, SA_2015age, SA_2020age]\n",
        "def update(i):\n",
        "    ax.clear()\n",
        "    age = ['20세 미만','20~29세','30~39세','40~49세','50~59세','60세 이상']\n",
        "    y = np.arange(len(age))\n",
        "    ax.barh(y[::-1], SA_age[i%8] , color='lightgrey',zorder=2)\n",
        "    ax.set_yticks(y[::-1], age, fontsize=14)\n",
        "    ax.tick_params(labelsize=14)\n",
        "    ax.set_xlim(xmin=0, xmax=2.5e6)\n",
        "    ax.set_title('In {}'.format(year[i%8]), size=17)\n",
        "    ax.set_ylabel('연령', size=15)\n",
        "    ax.set_xlabel('1인 가구 수', size=15)\n",
        "    plt.grid(True,zorder=0,axis='x')\n",
        "\n",
        "anim = FuncAnimation(fig, update, frames=8, interval=1000, repeat=True)\n",
        "anim.save('/content/gdrive/MyDrive/6캔두잇/Data Visualization Result/연도별 1인 가구의 연령 변화.gif', writer='Pillow',dpi=400)\n",
        "plt.show()"
      ],
      "metadata": {
        "id": "SjkImtHNiM2K"
      },
      "execution_count": null,
      "outputs": []
    },
    {
      "cell_type": "markdown",
      "source": [
        "**연도(2000~2020)별 성별 1인 가구의 연령 변화 : 피라미드 차트의 변화를 gif파일로**"
      ],
      "metadata": {
        "id": "ji37Wkc0iaez"
      }
    },
    {
      "cell_type": "code",
      "source": [
        "# 2000년\n",
        "SA_2000ageM = [] ; SA_2000ageF = []\n",
        "for i in range(3,15,2):\n",
        "    SA_2000ageM.append(int(SA_2000.iloc[i,2]) + int(SA_2000.iloc[i+1,2]))\n",
        "    SA_2000ageF.append(int(SA_2000.iloc[i,3]) + int(SA_2000.iloc[i+1,3]))\n",
        "\n",
        "# 2005년 ~ 2020년\n",
        "SA_2005ageM = [int(SA_2005.iloc[1,3])] ; SA_2005ageF = [int(SA_2005.iloc[1,5])]\n",
        "SA_2010ageM = [int(SA_2010.iloc[1,3])] ; SA_2010ageF = [int(SA_2010.iloc[1,5])]\n",
        "SA_2015ageM = [int(SA_2015.iloc[2,2])] ; SA_2015ageF = [int(SA_2015.iloc[2,3])]\n",
        "SA_2020ageM = [int(SA_2020.iloc[2,2])] ; SA_2020ageF = [int(SA_2020.iloc[2,3])]\n",
        "for i in range(2,9,2):\n",
        "    SA_2005ageM.append(int(SA_2005.iloc[i,3]) + int(SA_2005.iloc[i+1,3]))\n",
        "    SA_2005ageF.append(int(SA_2005.iloc[i,5]) + int(SA_2005.iloc[i+1,5]))\n",
        "    SA_2010ageM.append(int(SA_2010.iloc[i,3]) + int(SA_2010.iloc[i+1,3]))\n",
        "    SA_2010ageF.append(int(SA_2010.iloc[i,5]) + int(SA_2010.iloc[i+1,5]))\n",
        "    SA_2015ageM.append(int(SA_2015.iloc[i+1,2]) + int(SA_2015.iloc[i+2,2]))\n",
        "    SA_2015ageF.append(int(SA_2015.iloc[i+1,3]) + int(SA_2015.iloc[i+2,3]))\n",
        "    SA_2020ageM.append(int(SA_2020.iloc[i+1,2]) + int(SA_2020.iloc[i+2,2]))\n",
        "    SA_2020ageF.append(int(SA_2020.iloc[i+1,3]) + int(SA_2020.iloc[i+2,3]))\n",
        "\n",
        "SA_2005ageM.append(int(SA_2005.iloc[10,3]) + int(SA_2005.iloc[11,3]) + int(SA_2005.iloc[12,3]) + int(SA_2005.iloc[13,3]) + int(SA_2005.iloc[14,3]) + int(SA_2005.iloc[15,3]))\n",
        "SA_2005ageF.append(int(SA_2005.iloc[10,5]) + int(SA_2005.iloc[11,5]) + int(SA_2005.iloc[12,5]) + int(SA_2005.iloc[13,5]) + int(SA_2005.iloc[14,5]) + int(SA_2005.iloc[15,5]))\n",
        "SA_2010ageM.append(int(SA_2010.iloc[10,3]) + int(SA_2010.iloc[11,3]) + int(SA_2010.iloc[12,3]) + int(SA_2010.iloc[13,3]) + int(SA_2010.iloc[14,3]) + int(SA_2010.iloc[15,3]))\n",
        "SA_2010ageF.append(int(SA_2010.iloc[10,5]) + int(SA_2010.iloc[11,5]) + int(SA_2010.iloc[12,5]) + int(SA_2010.iloc[13,5]) + int(SA_2010.iloc[14,5]) + int(SA_2010.iloc[15,5]))\n",
        "SA_2015ageM.append(int(SA_2015.iloc[11,2]) + int(SA_2015.iloc[12,2]) + int(SA_2015.iloc[13,2]) + int(SA_2015.iloc[14,2]) + int(SA_2015.iloc[15,2]) + int(SA_2015.iloc[16,2]))\n",
        "SA_2015ageF.append(int(SA_2015.iloc[11,3]) + int(SA_2015.iloc[12,3]) + int(SA_2015.iloc[13,3]) + int(SA_2015.iloc[14,3]) + int(SA_2015.iloc[15,3]) + int(SA_2015.iloc[16,3]))\n",
        "SA_2020ageM.append(int(SA_2020.iloc[11,2]) + int(SA_2020.iloc[12,2]) + int(SA_2020.iloc[13,2]) + int(SA_2020.iloc[14,2]) + int(SA_2020.iloc[15,2]) + int(SA_2020.iloc[16,2]))\n",
        "SA_2020ageF.append(int(SA_2020.iloc[11,3]) + int(SA_2020.iloc[12,3]) + int(SA_2020.iloc[13,3]) + int(SA_2020.iloc[14,3]) + int(SA_2020.iloc[15,3]) + int(SA_2020.iloc[16,3]))"
      ],
      "metadata": {
        "id": "0f9TR5dMiXfF"
      },
      "execution_count": null,
      "outputs": []
    },
    {
      "cell_type": "code",
      "source": [
        "fig, ax = plt.subplots(1,1, figsize=[13, 7])\n",
        "#plt.figure(figsize = [30,30])\n",
        "\n",
        "year = [2000,2005,2010,2015,2020]\n",
        "SA_ageM = [SA_2000ageM, SA_2005ageM, SA_2010ageM, SA_2015ageM, SA_2020ageM]\n",
        "SA_ageF = [SA_2000ageF, SA_2005ageF, SA_2010ageF, SA_2015ageF, SA_2020ageF]\n",
        "def update(i):\n",
        "    ax.clear()\n",
        "    age = ['20세 미만','20~29세','30~39세','40~49세','50~59세','60세 이상']\n",
        "    y = np.arange(len(age))\n",
        "    ax.barh(y[::-1], np.array(SA_ageM[i%5])*(-1) , color='skyblue',zorder=2)\n",
        "    ax.barh(y[::-1], SA_ageF[i%5] , color='pink',zorder=2)\n",
        "    ax.set_yticks(y[::-1], age,fontsize=14)\n",
        "    ax.tick_params(labelsize=14)\n",
        "    ax.set_title('In {}'.format(year[i%5]), size=17)\n",
        "    ax.legend(['남성','여성'], fontsize=13)\n",
        "    ax.set_xlim(xmin=-1.6e6, xmax=1.6e6)\n",
        "    ax.set_ylabel('연령', size=15)\n",
        "    ax.set_xlabel('1인 가구 수', size=15)\n",
        "    ax.grid(True,axis='x',zorder=0)\n",
        "\n",
        "\n",
        "anim = FuncAnimation(fig, update, frames=5, interval=1000, repeat=True)\n",
        "anim.save('/content/gdrive/MyDrive/6캔두잇/Data Visualization Result/연도별 성별 1인 가구의 연령 변화.gif', writer='Pillow',dpi=400)\n",
        "plt.show()"
      ],
      "metadata": {
        "id": "p2rpWmUxih6r"
      },
      "execution_count": null,
      "outputs": []
    },
    {
      "cell_type": "markdown",
      "source": [
        "##### **결과 분석**\n",
        "- 전체 가구수가 늘어나고 있고, 1인 가구수도 늘어나고 있음\n",
        "- **1인 가구수의 비율**이 늘어나고 있음(1985년 $\\rightarrow$ 2020년 24.8% point ↑)\n",
        "- 1985년부터 2020년까지 5년 단위로 1인 가구의 연도별 연령 변화를 보면, **60세 이상의 고령 1인 가구**가 급격히 늘어나고 있음\n",
        "- 2000년부터 2020년까지 5년 단위로 1인 가구의 연도별 연령 변화를 성별로 나눠서 보면, **60세 이상의 여성 가구**가 급격히 늘어나고 있음"
      ],
      "metadata": {
        "id": "22PW54yAoIZi"
      }
    },
    {
      "cell_type": "markdown",
      "source": [
        "#### 연도별 혼인 건수&이혼 건수 변화\n",
        "\n",
        "- 출산을 하지 않는 것이 아니라, 근본적으로 '혼인' 자체를 하지 않아서 출산율이 낮아지는 것이지 않을까?\n",
        "\n",
        "- 시각화 방법 : 연도별 혼인 건수와 이혼 건수 Bar Chart"
      ],
      "metadata": {
        "id": "MjDLOfc2oSBe"
      }
    },
    {
      "cell_type": "code",
      "source": [
        "Marriage = pd.read_csv(path+'혼인건수.csv', encoding='CP949')\n",
        "Divorce = pd.read_csv(path+'이혼건수.csv', encoding='CP949')"
      ],
      "metadata": {
        "id": "aYgjVtevqzeL"
      },
      "execution_count": null,
      "outputs": []
    },
    {
      "cell_type": "code",
      "source": [
        "M_19702021 = []\n",
        "D_19702021 = []\n",
        "for i in range(0,52):\n",
        "    M_19702021.append(int(Marriage.iloc[i,1]))\n",
        "    D_19702021.append(int(Divorce.iloc[i,1]))"
      ],
      "metadata": {
        "id": "WgxuK4qwq8Q6"
      },
      "execution_count": null,
      "outputs": []
    },
    {
      "cell_type": "code",
      "source": [
        "fig, ax = plt.subplots(figsize=(13,7))\n",
        "bar_width = 0.45\n",
        "\n",
        "# 연도가 52개이므로\n",
        "index = np.arange(52)\n",
        "years_name = np.arange(1970,2022,5)\n",
        "\n",
        "# 각 연도별로 2개 bar를 순서대로 나타내는 과정, 각 그래프는 0.25의 간격을 두고 그려짐\n",
        "b1 = plt.bar(index,M_19702021, bar_width, alpha=0.4, color='blue', label='혼인')\n",
        "b2 = plt.bar(index + bar_width, D_19702021, bar_width, alpha=0.4, color='red', label='이혼')\n",
        "\n",
        "# x축 위치를 정 가운데로 조정하고 x축의 텍스트를 year 정보와 매칭\n",
        "plt.xticks(np.arange(bar_width/2, 52 + bar_width/2, 5), years_name, fontsize=14)\n",
        "plt.yticks(fontsize=14)\n",
        "\n",
        "# x축, y축 이름 및 범례 설정\n",
        "plt.xlabel('연도(년)', size = 15)\n",
        "plt.ylabel('건수', size = 15)\n",
        "plt.ylim(ymin=0, ymax=500000)\n",
        "plt.legend(fontsize=13)\n",
        "plt.title('연도별 혼인건수 & 이혼건수', size = 17)\n",
        "plt.grid(True,axis='y',zorder=0)\n",
        "plt.savefig('/content/gdrive/MyDrive/6캔두잇/Data Visualization Result/연도별 혼인과 이혼.jpg', dpi=400)\n",
        "\n",
        "plt.show()"
      ],
      "metadata": {
        "id": "s9sn6toyq-gf"
      },
      "execution_count": null,
      "outputs": []
    },
    {
      "cell_type": "markdown",
      "source": [
        "#### 연령별 혼인 & 출산건수 상관관계\n",
        "\n",
        "- 혼인이 늦어지고 있어서, 출산율이 낮아지는 것인가?\n",
        "\n",
        "- 시각화 방법 : line plot"
      ],
      "metadata": {
        "id": "ugSmlieDyitq"
      }
    },
    {
      "cell_type": "code",
      "source": [
        "marriage_age = pd.read_csv(\n",
        "    path+\"시도_연령_각세_별_혼인(1990-2022).csv\",\n",
        "    encoding='cp949',\n",
        "    index_col=[0, 1, 2, 3],\n",
        "    header=0,\n",
        ").loc['전국']"
      ],
      "metadata": {
        "id": "DJliDJEqyz1E"
      },
      "execution_count": null,
      "outputs": []
    },
    {
      "cell_type": "code",
      "source": [
        "wife_marriage_age = marriage_age.iloc[5:-4:2, :-1]\n",
        "wife_marriage_age.columns = range(1990, 2023)\n",
        "wife_marriage_age.index = range(15, 76)"
      ],
      "metadata": {
        "id": "WSXEZzTNy4Zn"
      },
      "execution_count": null,
      "outputs": []
    },
    {
      "cell_type": "code",
      "source": [
        "def average(series):\n",
        "    return sum(series * series.index) / sum(series)"
      ],
      "metadata": {
        "id": "4UqVsunry7PW"
      },
      "execution_count": null,
      "outputs": []
    },
    {
      "cell_type": "code",
      "source": [
        "# apply: 함수를 행 혹은 열별로 적용\n",
        "average_wife_marriage_age = wife_marriage_age.apply(average, axis=0).rename('신부 평균 나이')"
      ],
      "metadata": {
        "id": "upJX9PVoy8kt"
      },
      "execution_count": null,
      "outputs": []
    },
    {
      "cell_type": "code",
      "source": [
        "plt.figure(figsize=(13,7))\n",
        "plt.plot(range(1990, 2023), average_wife_marriage_age, 'o-',color='r',linewidth=3)\n",
        "plt.title(\"연도에 따른 신부 평균 나이\",fontsize=17)\n",
        "plt.xlabel('연도',fontsize=15)\n",
        "plt.ylabel('신부 평균 나이', fontsize=15)\n",
        "plt.xticks(fontsize=14) ; plt.yticks(np.arange(20,36,5),fontsize=14)\n",
        "plt.xlim(1989,2023) ; plt.ylim(20,35)\n",
        "plt.grid(True,zorder=0)\n",
        "plt.savefig('/content/gdrive/MyDrive/6캔두잇/Data Visualization Result/연도에 따른 신부 평균 나이.jpg',dpi=400)\n",
        "plt.show()"
      ],
      "metadata": {
        "id": "LADLnyBGzAnr"
      },
      "execution_count": null,
      "outputs": []
    },
    {
      "cell_type": "code",
      "source": [
        "marriage = pd.read_csv(\n",
        "    path+\"연령별혼인(1990-2022).csv\",\n",
        "    encoding='cp949',\n",
        "    index_col=[0, 1, 2, 3],\n",
        "    header=0,\n",
        ").loc['계']"
      ],
      "metadata": {
        "id": "Burbbtkb0fHV"
      },
      "execution_count": null,
      "outputs": []
    },
    {
      "cell_type": "code",
      "source": [
        "marriage = marriage.iloc[1:-8, :-1]\n",
        "marriage.columns = range(1990, 2023)"
      ],
      "metadata": {
        "id": "RHKysItj0ziT"
      },
      "execution_count": null,
      "outputs": []
    },
    {
      "cell_type": "code",
      "source": [
        "childbearing_age_marriage = marriage.sum(axis=0).rename('가임기 여성의 결혼 건수')\n",
        "childbearing_age_marriage\n",
        "\n",
        "plt.figure(figsize=(13,7))\n",
        "plt.plot(range(1990, 2023), childbearing_age_marriage, 'o-',color='r',linewidth=3)\n",
        "plt.title(\"연도에 따른 가임기 여성의 결혼 건수\", fontsize=17)\n",
        "plt.xlabel('연도',fontsize=15)\n",
        "plt.ylabel('가임기 여성의 결혼 건수', fontsize=15)\n",
        "plt.yticks(np.arange(150000,450000+1,50000), fontsize=14) ; plt.ylim(150000,450000)\n",
        "plt.xticks(fontsize=14)\n",
        "plt.xlim(1989,2023)\n",
        "plt.grid(True,zorder=0)\n",
        "plt.savefig('/content/gdrive/MyDrive/6캔두잇/Data Visualization Result/연도에 따른 가임기 여성 결혼 건수.jpg',dpi=400)\n",
        "\n",
        "plt.show()"
      ],
      "metadata": {
        "id": "MHhG0m7w01NZ"
      },
      "execution_count": null,
      "outputs": []
    },
    {
      "cell_type": "code",
      "source": [
        "birth = pd.read_csv(\n",
        "    path+\"출생아수_합계출산율(1970-2022).csv\",\n",
        "    encoding='cp949',\n",
        "    index_col=0,\n",
        "    header=0,\n",
        ")\n",
        "birth.columns = range(1970, 2023)"
      ],
      "metadata": {
        "id": "Aw3aHTbM4ENG"
      },
      "execution_count": null,
      "outputs": []
    },
    {
      "cell_type": "code",
      "source": [
        "plt.figure(figsize=(13,7))\n",
        "sns.scatterplot(\n",
        "    x=childbearing_age_marriage.shift(2)[2:].astype('int'),\n",
        "    y=birth.loc['출생아수(명)'][2:],\n",
        "    color='blue'\n",
        ")\n",
        "plt.title(\"연도별 가임기 여성의 결혼 건수와 2년 뒤 출생아수의 상관관계\", fontsize=17)\n",
        "plt.xlabel('가임기 여성의 결혼 건수',fontsize=15)\n",
        "plt.ylabel('출생아수', fontsize=15)\n",
        "plt.yticks(np.arange(200000,800000+1,100000), fontsize=14) ; plt.ylim(200000,800000)\n",
        "plt.xticks(np.arange(150000,450000+1,50000), fontsize=14) ; plt.xlim(150000,450000)\n",
        "plt.savefig('/content/gdrive/MyDrive/6캔두잇/Data Visualization Result/결혼건수출생아수상관관계.jpg',dpi=400)\n",
        "plt.show()"
      ],
      "metadata": {
        "id": "T_V3QXeQ5K-h"
      },
      "execution_count": null,
      "outputs": []
    },
    {
      "cell_type": "code",
      "source": [
        "# 상관계수 구하기\n",
        "df = pd.DataFrame(\n",
        "    data={\n",
        "        '결혼건수': childbearing_age_marriage.shift(2)[2:].astype('int'),\n",
        "        '출생아수': birth.loc['출생아수(명)'][list(range(1992, 2023))]\n",
        "    },\n",
        "    columns=['결혼건수', '출생아수'],\n",
        ")\n",
        "print(df.corr())"
      ],
      "metadata": {
        "id": "mwUS5XE78FTk"
      },
      "execution_count": null,
      "outputs": []
    },
    {
      "cell_type": "markdown",
      "source": [
        "##### **결과 분석**\n",
        "- 결혼 직후 출산보다 시간이 조금 지난 후 아이를 낳을 것을 생각하여 2년 뒤 출생아 수의 상관관계를 살펴봄\n",
        "- ‘결혼 건수’ 자체와 ‘출산’의 상관계수가 굉장히 큼\n",
        "- 출산 자체의 저하보다 혼인의 저하 또는 부재라고 볼\n",
        "수 있음"
      ],
      "metadata": {
        "id": "wKMDlDvl8XVY"
      }
    },
    {
      "cell_type": "markdown",
      "source": [
        "#### 부양비 변화\n",
        "\n",
        "- 출산에 가장 부담을 느끼는 것은 돈? 자녀양육비와 부모부양비\n",
        "\n",
        "  > - 총 부양비 = 유소년부양비 + 노년부양비\n",
        "  > - 유소년부양비 = $\\frac{유소년인구(0-14세)}{생산연령인구(15-64세)} \\times 100$\n",
        "  <br>\n",
        "  > - 노년부양비 = $\\frac{고령인구(65세-)}{생산연령인구(15-64세)} \\times 100$\n",
        "\n",
        "- 시각화 방법 : line plot"
      ],
      "metadata": {
        "id": "VF2JfqNrrDfT"
      }
    },
    {
      "cell_type": "code",
      "source": [
        "Money = pd.read_csv(path+'인구구조 부양비.csv', encoding='CP949')\n",
        "Money = Money.iloc[11:14]"
      ],
      "metadata": {
        "id": "ApdwTPv1rh0y"
      },
      "execution_count": null,
      "outputs": []
    },
    {
      "cell_type": "code",
      "source": [
        "Money_Total = [] ; Money_Youth = [] ; Money_Old = []\n",
        "for i in range(2,15):\n",
        "    Money_Total.append(float(Money.iloc[0,i]))\n",
        "    Money_Youth.append(float(Money.iloc[1,i]))\n",
        "    Money_Old.append(float(Money.iloc[2,i]))\n",
        "Money_Total"
      ],
      "metadata": {
        "id": "_Iif0EizrlZy"
      },
      "execution_count": null,
      "outputs": []
    },
    {
      "cell_type": "code",
      "source": [
        "x = np.arange(1960,2021,5)\n",
        "plt.figure(figsize=(13,7))\n",
        "plt.plot(x, Money_Total, 'o-', color='black', markersize=4, label='총 부양비')\n",
        "plt.plot(x, Money_Youth, 'o-', color='red', markersize=4, label='유소년 부양비')\n",
        "plt.plot(x, Money_Old, 'o-', color='blue', markersize=4, label='노년 부양비')\n",
        "plt.legend(fontsize=13)\n",
        "plt.title('부양비의 변화', fontsize=17)\n",
        "plt.ylim(ymin = 0, ymax=100)\n",
        "plt.xlabel('연도',fontsize=15)\n",
        "plt.ylabel('15~64세 인구 1인당 부양 부담률(%)',fontsize=15)\n",
        "plt.xticks(fontsize=14) ; plt.yticks(fontsize=14)\n",
        "plt.grid(True,zorder=0)\n",
        "plt.savefig('/content/gdrive/MyDrive/6캔두잇/Data Visualization Result/부양비의 변화.jpg', dpi=400)\n",
        "plt.show()"
      ],
      "metadata": {
        "id": "3JvS-3RkroNa"
      },
      "execution_count": null,
      "outputs": []
    },
    {
      "cell_type": "markdown",
      "source": [
        "##### **결과 분석**\n",
        "- 유소년 부양비가 줄고 있는 이유 : 출산률이 낮아지기 때문\n",
        "- 노년 부양비가 늘어나고 있는 이유 : 고령인구가 늘어나고 있기 때문\n",
        "- 시간이 지남에 따라 생산연령인구(15~64세) 1인당 부양비의 부담률은 줄고 있음!!\n"
      ],
      "metadata": {
        "id": "a7sh7bSirsyo"
      }
    },
    {
      "cell_type": "markdown",
      "source": [
        "#### 결혼에 대한 태도 변화(가치관)\n",
        "- 1998, 2002, 2006, 2008, 2010, 2012, 2014, 2016, 2018, 2020, 2022년 자료 사용\n",
        "\n",
        "- 시각화 방법\n",
        "  - 파이차트로 1998년도부터 2022년까지 각각 해보고 비율 변화를 gif파일로 시각화\n",
        "  - 결혼에 대해 긍정적인 태도(반드시 해야 한다 + 하는 것이 좋다) vs 결혼에 대해 부정적인 태도(하지 않는 것이 좋다 + 하지 말아야 한다) 연도별 변화 그래프"
      ],
      "metadata": {
        "id": "qefF3MPJry3L"
      }
    },
    {
      "cell_type": "code",
      "source": [
        "M1998 = pd.read_csv(path+'결혼 가치관/결혼 가치관_1998.csv', encoding='CP949')\n",
        "M2002 = pd.read_csv(path+'결혼 가치관/결혼 가치관_2002.csv', encoding='CP949')\n",
        "M2006 = pd.read_csv(path+'결혼 가치관/결혼 가치관_2006.csv', encoding='CP949')\n",
        "M2008after = pd.read_csv(path+'결혼 가치관/결혼 가치관_2008~2022.csv', encoding='CP949')\n",
        "M2008 = M2008after[['행정구역별(1)', '특성별(1)', '특성별(2)', '2008', '2008.1', '2008.2', '2008.3','2008.4', '2008.5', '2008.6']]\n",
        "M2010 = M2008after[['행정구역별(1)', '특성별(1)', '특성별(2)', '2010', '2010.1', '2010.2', '2010.3','2010.4', '2010.5', '2010.6']]\n",
        "M2012 = M2008after[['행정구역별(1)', '특성별(1)', '특성별(2)', '2012', '2012.1', '2012.2', '2012.3','2012.4', '2012.5', '2012.6']]\n",
        "M2014 = M2008after[['행정구역별(1)', '특성별(1)', '특성별(2)', '2014', '2014.1', '2014.2', '2014.3','2014.4', '2014.5', '2014.6']]\n",
        "M2016 = M2008after[['행정구역별(1)', '특성별(1)', '특성별(2)', '2016', '2016.1', '2016.2', '2016.3','2016.4', '2016.5', '2016.6']]\n",
        "M2018 = M2008after[['행정구역별(1)', '특성별(1)', '특성별(2)', '2018', '2018.1', '2018.2', '2018.3','2018.4', '2018.5', '2018.6']]\n",
        "M2020 = M2008after[['행정구역별(1)', '특성별(1)', '특성별(2)', '2020', '2020.1', '2020.2', '2020.3','2020.4', '2020.5', '2020.6']]\n",
        "M2022 = M2008after[['행정구역별(1)', '특성별(1)', '특성별(2)', '2022', '2022.1', '2022.2', '2022.3','2022.4', '2022.5', '2022.6']]"
      ],
      "metadata": {
        "id": "92t-dJpQsJPR"
      },
      "execution_count": null,
      "outputs": []
    },
    {
      "cell_type": "code",
      "source": [
        "labels = [M2008.iloc[0][4], M2008.iloc[0][5], M2008.iloc[0][6], M2008.iloc[0][7], M2008.iloc[0][8], M2008.iloc[0][9]]\n",
        "\n",
        "sizes1998 = [float(M1998.iloc[1][3]), float(M1998.iloc[1][4]), float(M1998.iloc[1][5]), float(M1998.iloc[1][6]), float(M1998.iloc[1][7]), float(M1998.iloc[1][8])]\n",
        "sizes2002 = [float(M2002.iloc[1][3]), float(M2002.iloc[1][4]), float(M2002.iloc[1][5]), float(M2002.iloc[1][6]), float(M2002.iloc[1][7]), float(M2002.iloc[1][8])]\n",
        "sizes2006 = [float(M2006.iloc[1][3]), float(M2006.iloc[1][4]), float(M2006.iloc[1][5]), float(M2006.iloc[1][6]), float(M2006.iloc[1][7]), float(M2006.iloc[1][8])]\n",
        "sizes2008 = [float(M2008.iloc[1][4]), float(M2008.iloc[1][5]), float(M2008.iloc[1][6]), float(M2008.iloc[1][7]), float(M2008.iloc[1][8]), float(M2008.iloc[1][9])]\n",
        "sizes2010 = [float(M2010.iloc[1][4]), float(M2010.iloc[1][5]), float(M2010.iloc[1][6]), float(M2010.iloc[1][7]), float(M2010.iloc[1][8]), float(M2010.iloc[1][9])]\n",
        "sizes2012 = [float(M2012.iloc[1][4]), float(M2012.iloc[1][5]), float(M2012.iloc[1][6]), float(M2012.iloc[1][7]), float(M2012.iloc[1][8]), float(M2012.iloc[1][9])]\n",
        "sizes2014 = [float(M2014.iloc[1][4]), float(M2014.iloc[1][5]), float(M2014.iloc[1][6]), float(M2014.iloc[1][7]), float(M2014.iloc[1][8]), float(M2014.iloc[1][9])]\n",
        "sizes2016 = [float(M2016.iloc[1][4]), float(M2016.iloc[1][5]), float(M2016.iloc[1][6]), float(M2016.iloc[1][7]), float(M2016.iloc[1][8]), float(M2016.iloc[1][9])]\n",
        "sizes2018 = [float(M2018.iloc[1][4]), float(M2018.iloc[1][5]), float(M2018.iloc[1][6]), float(M2018.iloc[1][7]), float(M2018.iloc[1][8]), float(M2018.iloc[1][9])]\n",
        "sizes2020 = [float(M2020.iloc[1][4]), float(M2020.iloc[1][5]), float(M2020.iloc[1][6]), float(M2020.iloc[1][7]), float(M2020.iloc[1][8]), float(M2020.iloc[1][9])]\n",
        "sizes2022 = [float(M2022.iloc[1][4]), float(M2022.iloc[1][5]), float(M2022.iloc[1][6]), float(M2022.iloc[1][7]), float(M2022.iloc[1][8]), float(M2022.iloc[1][9])]"
      ],
      "metadata": {
        "id": "9U6MuAj5sd4I"
      },
      "execution_count": null,
      "outputs": []
    },
    {
      "cell_type": "code",
      "source": [
        "years[0]"
      ],
      "metadata": {
        "id": "KmAOjhv-6BG1"
      },
      "execution_count": null,
      "outputs": []
    },
    {
      "cell_type": "code",
      "source": [
        "fig, ax = plt.subplots(figsize=[13, 7])\n",
        "#plt.figure(figsize = [30,30])\n",
        "\n",
        "years = [sizes1998,sizes2002,sizes2006,sizes2008,sizes2010,sizes2012,sizes2014,sizes2016,sizes2018,sizes2020,sizes2022]\n",
        "years_name = [1998,2002,2006,2008,2010,2012,2014,2016,2018,2020,2022]\n",
        "colors = ['blue','royalblue','silver','tomato','red','whitesmoke']\n",
        "labels = [M2008.iloc[0][4], M2008.iloc[0][5], M2008.iloc[0][6], M2008.iloc[0][7], M2008.iloc[0][8], M2008.iloc[0][9]]\n",
        "def update(i):\n",
        "    ax.clear()\n",
        "    M = years[i%11]\n",
        "    ax.pie(M, counterclock=False,startangle = 90,colors=colors)\n",
        "    ax.legend(labels, loc='center right', bbox_to_anchor=(1.5,0.5), fontsize=13)\n",
        "    ax.set_title('In {}'.format(years_name[i%11]),fontsize=17)\n",
        "\n",
        "\n",
        "anim = FuncAnimation(fig, update, frames=11, interval=1000, repeat=True)\n",
        "#anim.save('/content/gdrive/MyDrive/6캔두잇/Data Visualization Result/결혼에 대한 태도 변화.gif', writer='Pillow',dpi=400)\n",
        "plt.show()"
      ],
      "metadata": {
        "id": "ouf1NSWTshFj"
      },
      "execution_count": null,
      "outputs": []
    },
    {
      "cell_type": "markdown",
      "source": [
        "위에꺼 안떠서 gif파일만 따로 결과폴더에 넣음"
      ],
      "metadata": {
        "id": "hRsUp6yV61mw"
      }
    },
    {
      "cell_type": "code",
      "source": [
        "years = np.array(years)\n",
        "\n",
        "Pos = years[:,0] + years[:,1]\n",
        "Neg = years[:,3] + years[:,4]\n",
        "\n",
        "fig, ax = plt.subplots(figsize=(13,7))\n",
        "bar_width = 0.45\n",
        "\n",
        "index = np.arange(11)\n",
        "\n",
        "b1 = plt.bar(index,Pos, bar_width, color='skyblue', label='긍정적',zorder=2)\n",
        "b2 = plt.bar(index + bar_width, Neg, bar_width,  color='hotpink', label='부정적',zorder=2)\n",
        "\n",
        "for i in range(len(index)):\n",
        "    height = Pos[i] ; height2 = Neg[i]\n",
        "    plt.text(index[i], height + 0.3, '%.1f' %height, ha='center', va='bottom', size = 12)\n",
        "    plt.text(index[i]+bar_width, height2 + 0.3, '%.1f' %height2, ha='center', va='bottom', size = 12)\n",
        "\n",
        "plt.xticks(np.arange(bar_width/2, 11 + bar_width/2, 1), years_name,fontsize=14)\n",
        "plt.yticks(fontsize=14)\n",
        "\n",
        "\n",
        "plt.xlabel('연도(년)', size = 15)\n",
        "plt.ylabel('결혼에 대한 태도 변화(%)', size = 15)\n",
        "plt.ylim(ymin=0, ymax=80)\n",
        "plt.legend(fontsize=13)\n",
        "plt.title('결혼에 대한 태도 변화(긍정적 vs 부정적)', size = 17)\n",
        "plt.grid(True, axis='y',zorder=0)\n",
        "plt.savefig('/content/gdrive/MyDrive/6캔두잇/Data Visualization Result/결혼에 대한 태도 변화(긍정,부정).jpg', dpi=400)\n",
        "plt.show()"
      ],
      "metadata": {
        "id": "MdmFO2gDsl40"
      },
      "execution_count": null,
      "outputs": []
    },
    {
      "cell_type": "markdown",
      "source": [
        "##### **분석 결과**\n",
        "- 결혼에 대해 **긍정적**으로 생각하는 태도는 점점 줄고 있는 경향\n",
        "- 결혼에 대해 **부정적**으로 생각하는 태도는 전체적으로 큰 변화는 없지만, 1998년도에 비해 현재는 늘어나는 경향"
      ],
      "metadata": {
        "id": "CYbkER_is0be"
      }
    },
    {
      "cell_type": "markdown",
      "source": [
        "#### 결혼을 하지 않는 이유(가치관2)\n",
        "- 2022년 자료 사용\n",
        "\n",
        "- 시각화 방법 : 파이차트"
      ],
      "metadata": {
        "id": "_Rpg4ZVc9QMF"
      }
    },
    {
      "cell_type": "code",
      "source": [
        "no_marriage_reason = pd.read_csv(\n",
        "    path+\"결혼을_하지_않는_이유(2022).csv\",\n",
        "    encoding='cp949',\n",
        "    index_col=[0, 1, 2],\n",
        "    header=1,\n",
        ").loc[('전국', '성별')].iloc[:, 1:]"
      ],
      "metadata": {
        "colab": {
          "base_uri": "https://localhost:8080/"
        },
        "id": "vSCucj8G9eOc",
        "outputId": "0c6007ce-3700-4ac5-ed95-86c6a507ca4a"
      },
      "execution_count": null,
      "outputs": [
        {
          "output_type": "stream",
          "name": "stderr",
          "text": [
            "<ipython-input-10-e7dfe0567ea5>:1: PerformanceWarning: indexing past lexsort depth may impact performance.\n",
            "  no_marriage_reason = pd.read_csv(\n"
          ]
        }
      ]
    },
    {
      "cell_type": "code",
      "source": [
        "ratio = [32.823, 16.623, 5.631, 11.872, 11.468, 0.673, 7.612,0.693,12.284,0.321]\n",
        "labels = ['결혼자금이 부족해서', '직업이 없거나 고용상태가 불안정해서', '결혼과 일을 동시에 하기 어려워서', '출산과 양육이 부담되어서','결혼하고 싶은 상대를 만나지 못해서','결혼하기에 나이가 어리거나 많아서','행동과 삶의 자유를 포기할 수 없어서','배우자 가족과의 관계가 부담되어서','결혼의 필요성을 느끼지 못해서','기타']\n",
        "colors = ['#ff9999', '#ffc000', '#8fd9b6', '#d395d0','#1f77b4','#ff7f0e','#bcbd22','#17becf','#d62728','#8c564b']\n",
        "wedgeprops={'width': 0.7, 'edgecolor': 'w','linewidth': 5}\n",
        "\n",
        "plt.figure(figsize=(13,7))\n",
        "plt.title(\"결혼을 하지 않는 이유 (남성)\", fontsize=17)\n",
        "\n",
        "plt.pie(ratio, labels=labels, autopct='%.1f%%', startangle=260, counterclock=False, colors=colors, wedgeprops=wedgeprops)\n",
        "plt.savefig('/content/gdrive/MyDrive/6캔두잇/Data Visualization Result/결혼하지않는이유(남성).jpg',dpi=400)\n",
        "plt.show()\n",
        "#'#ff9999', '#ffc000', '#8fd9b6', '#d395d0'"
      ],
      "metadata": {
        "id": "oabdhpMS9jny"
      },
      "execution_count": null,
      "outputs": []
    },
    {
      "cell_type": "code",
      "source": [
        "ratio = [24.566, 12.675, 9.678, 13.694, 12.856, 0.533, 9.301,1.582,14.954,0.161]\n",
        "labels = ['결혼자금이 부족해서', '직업이 없거나 고용상태가 불안정해서', '결혼과 일을 동시에 하기 어려워서', '출산과 양육이 부담되어서','결혼하고 싶은 상대를 만나지 못해서','결혼하기에 나이가 어리거나 많아서','행동과 삶의 자유를 포기할 수 없어서','배우자 가족과의 관계가 부담되어서','결혼의 필요성을 느끼지 못해서','기타']\n",
        "colors = ['#ff9999', '#ffc000', '#8fd9b6', '#d395d0','#1f77b4','#ff7f0e','#bcbd22','#17becf','#d62728','#8c564b']\n",
        "wedgeprops={'width': 0.7, 'edgecolor': 'w','linewidth': 5}\n",
        "plt.figure(figsize=(13,7))\n",
        "plt.title(\"결혼을 하지 않는 이유 (여성)\",fontsize=17)\n",
        "\n",
        "\n",
        "plt.pie(ratio, labels=labels, autopct='%.1f%%', startangle=260, counterclock=False, colors=colors, wedgeprops=wedgeprops)\n",
        "plt.savefig('/content/gdrive/MyDrive/6캔두잇/Data Visualization Result/결혼하지않는이유(여성).jpg',dpi=400)\n",
        "plt.show()\n",
        "#'#ff9999', '#ffc000', '#8fd9b6', '#d395d0'"
      ],
      "metadata": {
        "id": "uRE5qJXA-6Qu"
      },
      "execution_count": null,
      "outputs": []
    },
    {
      "cell_type": "markdown",
      "source": [
        "#### 가사분담실태"
      ],
      "metadata": {
        "id": "tP3VmHWv79JX"
      }
    },
    {
      "cell_type": "code",
      "source": [
        "housework = pd.read_csv(\n",
        "    path+\"가사분담실태(2008-2022).csv\",\n",
        "    encoding='cp949',\n",
        "    index_col=[0, 1, 2],\n",
        "    header=[0, 1],\n",
        ").loc[('전국', '전체', '계')].rename('가사분담 비율')"
      ],
      "metadata": {
        "id": "oUWL274S8ASs"
      },
      "execution_count": null,
      "outputs": []
    },
    {
      "cell_type": "code",
      "source": [
        "wife_only = housework.iloc[1::6].set_axis(range(2008, 2023, 2))\n",
        "wife_only\n",
        "\n",
        "plt.figure(figsize=(13,7))\n",
        "sns.lineplot(x=range(2008, 2023, 2), y=wife_only,marker='o',color='blue')\n",
        "plt.title(\"연도에 따른 아내가 전적으로 가사를 책임지는 비율\",fontsize=17)\n",
        "plt.xlabel('연도',fontsize=15)\n",
        "plt.ylabel('아내가 전적으로 가사를 책임지는 비율',fontsize=15)\n",
        "plt.xticks(fontsize=14) ; plt.yticks(fontsize=14)\n",
        "plt.grid(True, zorder=0)\n",
        "plt.ylim(20,40)\n",
        "plt.savefig('/content/gdrive/MyDrive/6캔두잇/Data Visualization Result/연도에 따른 아내가 전적으로 가사를 책임지는 비율.jpg',dpi=400)\n",
        "plt.show()"
      ],
      "metadata": {
        "id": "4aFo3xiW8FI7"
      },
      "execution_count": null,
      "outputs": []
    },
    {
      "cell_type": "code",
      "source": [
        "wife_mainly"
      ],
      "metadata": {
        "id": "TStdanD29RZh"
      },
      "execution_count": null,
      "outputs": []
    },
    {
      "cell_type": "code",
      "source": [
        "wife_mainly = housework.iloc[2::6].set_axis(range(2008, 2023, 2)) + wife_only\n",
        "\n",
        "plt.figure(figsize=(13,7))\n",
        "sns.lineplot(x=range(2008, 2023, 2), y=wife_mainly, marker='o',color='blue',linewidth=3)\n",
        "plt.title(\"연도에 따른 아내가 가사를 더 많이 분담하는 비율\",fontsize=17)\n",
        "plt.xlabel('연도',fontsize=15)\n",
        "plt.ylabel('아내가 가사를 더 많이 분담하는 비율',fontsize=15)\n",
        "plt.xticks(fontsize=14) ; plt.yticks(fontsize=14)\n",
        "plt.grid(True, zorder=0)\n",
        "plt.ylim(70,90)\n",
        "\n",
        "plt.savefig('/content/gdrive/MyDrive/6캔두잇/저출산/Data Visualization Result/연도에 따른 아내가 가사를 더 많이 분담하는 비율.jpg',dpi=400)\n",
        "plt.show()"
      ],
      "metadata": {
        "id": "0FyW5N558pKg"
      },
      "execution_count": null,
      "outputs": []
    },
    {
      "cell_type": "code",
      "source": [
        "wife = housework.iloc[1::6].set_axis(range(2008, 2023, 2)) + housework.iloc[2::6].set_axis(range(2008, 2023, 2))\n",
        "fairly = housework.iloc[3::6].set_axis(range(2008, 2023, 2))\n",
        "husband = housework.iloc[4::6].set_axis(range(2008, 2023, 2)) + housework.iloc[5::6].set_axis(range(2008, 2023, 2))"
      ],
      "metadata": {
        "id": "8eB4tHVv9pdC"
      },
      "execution_count": null,
      "outputs": []
    },
    {
      "cell_type": "code",
      "source": [
        "# 그림 사이즈, 바 굵기 조정\n",
        "plt.figure(figsize=(13,7))\n",
        "bar_width = 0.45\n",
        "\n",
        "index = np.arange(2008, 2023, 2)\n",
        "\n",
        "plt.bar(index, wife, bar_width,  color='hotpink', label='아내위주',zorder=2)\n",
        "plt.bar(index + bar_width, fairly, bar_width, color='green', label='공평분담',zorder=2)\n",
        "plt.bar(index + 2 * bar_width, husband, bar_width,  color='skyblue', label='남편위주',zorder=2)\n",
        "\n",
        "plt.xticks(np.arange(2008+bar_width,2023+bar_width, 2), index ,fontsize=14)\n",
        "plt.yticks(fontsize=14)\n",
        "\n",
        "# x축, y축 이름 및 범례 설정\n",
        "plt.xlabel('연도(년)', size = 15)\n",
        "plt.ylabel('책임 주체', size = 15)\n",
        "plt.legend(fontsize=13)\n",
        "plt.title('가사분담실태', size = 17)\n",
        "plt.grid(True, axis='y',zorder=0)\n",
        "plt.xlim(2007,2024)\n",
        "plt.ylim(0,100)\n",
        "plt.savefig('/content/gdrive/MyDrive/6캔두잇/Data Visualization Result/가사분담실태.jpg', dpi=400)\n",
        "plt.show()"
      ],
      "metadata": {
        "id": "W113NRv_9rAl"
      },
      "execution_count": null,
      "outputs": []
    },
    {
      "cell_type": "code",
      "source": [
        "df = pd.read_csv(path+'소득별_가사분담실태_08to22evenyear.csv',encoding='cp949')"
      ],
      "metadata": {
        "id": "bDNdq9MlRBnY"
      },
      "execution_count": null,
      "outputs": []
    },
    {
      "cell_type": "code",
      "source": [
        "# 기존의 데이터프레임(df)에서 0행과 8행만 선택하여 새로운 데이터프레임을 생성\n",
        "new_df = df.iloc[[0, 8]].T\n",
        "\n",
        "# 새로운 데이터프레임의 헤더를 첫 번째 행으로 설정\n",
        "new_df.columns = new_df.iloc[0]\n",
        "new_df = new_df[1:]\n",
        "new_df\n",
        "\n",
        "# '평균' 컬럼의 데이터를 숫자로 변환 (데이터 클리닝)\n",
        "new_df['평균'] = new_df['평균'].str.replace(' ', '').astype(float)"
      ],
      "metadata": {
        "id": "gD1XDmLFRwXh"
      },
      "execution_count": null,
      "outputs": []
    },
    {
      "cell_type": "code",
      "source": [
        "# pivot table 생성\n",
        "pivot_df = new_df.pivot(columns='특성별', values='평균')\n",
        "\n",
        "# 색상 설정\n",
        "colors = sns.color_palette(\"husl\", n_colors=len(pivot_df.columns))\n",
        "\n",
        "# 박스플롯 그리기\n",
        "plt.figure(figsize=(13, 7))\n",
        "ax = sns.boxplot(data=new_df, x='평균', y='특성별', palette=colors, hue_order=pivot_df.columns)\n",
        "plt.xlabel('비율',fontsize=15)\n",
        "plt.ylabel('',fontsize=15)\n",
        "plt.title('소득별 평균 가사 분담 비율',fontsize=17)\n",
        "plt.xticks(fontsize=14) ; plt.yticks(fontsize=14) ; plt.xlim(0,60)\n",
        "plt.grid(True)\n",
        "\n",
        "# 범례 표시 및 위치 조정\n",
        "plt.legend(loc='upper left', bbox_to_anchor=(1, 1),fontsize=13)\n",
        "\n",
        "plt.savefig('/content/gdrive/MyDrive/6캔두잇/Data Visualization Result/평균 가사 분담 비율.png', dpi=400)"
      ],
      "metadata": {
        "id": "qi9DkE6gRy67"
      },
      "execution_count": null,
      "outputs": []
    },
    {
      "cell_type": "code",
      "source": [
        "# pivot table 생성\n",
        "pivot_df = new_df.pivot(columns='특성별', values='평균')\n",
        "\n",
        "# 색상 설정\n",
        "colors = sns.color_palette(\"husl\", n_colors=len(pivot_df.columns))\n",
        "\n",
        "# 박스플롯 그리기\n",
        "plt.figure(figsize=(13, 7))\n",
        "ax = sns.boxplot(data=pivot_df, palette=colors)\n",
        "plt.xlabel('',fontsize=15)\n",
        "plt.ylabel('비율',fontsize=15)\n",
        "plt.title('특성별 평균값에 대한 박스플롯 (Seaborn)',fontsize=17)\n",
        "plt.grid(True)\n",
        "\n",
        "# 각 특성별 레이블을 바깥쪽에 네모칸으로 표현\n",
        "legend_labels = pivot_df.columns\n",
        "legend_rects = [plt.Rectangle((0, 0), 1, 1, color=color) for color in colors]\n",
        "plt.legend(legend_rects, legend_labels, loc='upper left',fontsize=13)\n",
        "\n",
        "# x축의 레이블 제거\n",
        "plt.xticks([])\n",
        "\n",
        "plt.savefig('/content/gdrive/MyDrive/6캔두잇/Data Visualization Result/특성별 평균값에 댇한 박스플롯.png', dpi=400)\n",
        "plt.show()"
      ],
      "metadata": {
        "id": "GYTySG03SZlr"
      },
      "execution_count": null,
      "outputs": []
    },
    {
      "cell_type": "code",
      "source": [],
      "metadata": {
        "id": "l-JE0gBcVXU6"
      },
      "execution_count": null,
      "outputs": []
    }
  ]
}